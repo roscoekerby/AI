{
 "cells": [
  {
   "metadata": {},
   "cell_type": "markdown",
   "source": "# Imports",
   "id": "b01d8fa3636b9c7a"
  },
  {
   "cell_type": "code",
   "id": "initial_id",
   "metadata": {
    "collapsed": true,
    "ExecuteTime": {
     "end_time": "2024-10-17T13:44:53.982586Z",
     "start_time": "2024-10-17T13:44:49.712244Z"
    }
   },
   "source": "!pip install ultralytics",
   "outputs": [
    {
     "name": "stdout",
     "output_type": "stream",
     "text": [
      "Requirement already satisfied: ultralytics in c:\\users\\roscoekerby\\pycharmprojects\\idscanpipeline2024-10-15\\.venv\\lib\\site-packages (8.3.13)\n",
      "Requirement already satisfied: numpy>=1.23.0 in c:\\users\\roscoekerby\\pycharmprojects\\idscanpipeline2024-10-15\\.venv\\lib\\site-packages (from ultralytics) (2.1.2)\n",
      "Requirement already satisfied: matplotlib>=3.3.0 in c:\\users\\roscoekerby\\pycharmprojects\\idscanpipeline2024-10-15\\.venv\\lib\\site-packages (from ultralytics) (3.9.2)\n",
      "Requirement already satisfied: opencv-python>=4.6.0 in c:\\users\\roscoekerby\\pycharmprojects\\idscanpipeline2024-10-15\\.venv\\lib\\site-packages (from ultralytics) (4.10.0.84)\n",
      "Requirement already satisfied: pillow>=7.1.2 in c:\\users\\roscoekerby\\pycharmprojects\\idscanpipeline2024-10-15\\.venv\\lib\\site-packages (from ultralytics) (11.0.0)\n",
      "Requirement already satisfied: pyyaml>=5.3.1 in c:\\users\\roscoekerby\\pycharmprojects\\idscanpipeline2024-10-15\\.venv\\lib\\site-packages (from ultralytics) (6.0.2)\n",
      "Requirement already satisfied: requests>=2.23.0 in c:\\users\\roscoekerby\\pycharmprojects\\idscanpipeline2024-10-15\\.venv\\lib\\site-packages (from ultralytics) (2.32.3)\n",
      "Requirement already satisfied: scipy>=1.4.1 in c:\\users\\roscoekerby\\pycharmprojects\\idscanpipeline2024-10-15\\.venv\\lib\\site-packages (from ultralytics) (1.14.1)\n",
      "Requirement already satisfied: torch>=1.8.0 in c:\\users\\roscoekerby\\pycharmprojects\\idscanpipeline2024-10-15\\.venv\\lib\\site-packages (from ultralytics) (2.4.1)\n",
      "Requirement already satisfied: torchvision>=0.9.0 in c:\\users\\roscoekerby\\pycharmprojects\\idscanpipeline2024-10-15\\.venv\\lib\\site-packages (from ultralytics) (0.19.1)\n",
      "Requirement already satisfied: tqdm>=4.64.0 in c:\\users\\roscoekerby\\pycharmprojects\\idscanpipeline2024-10-15\\.venv\\lib\\site-packages (from ultralytics) (4.66.5)\n",
      "Requirement already satisfied: psutil in c:\\users\\roscoekerby\\pycharmprojects\\idscanpipeline2024-10-15\\.venv\\lib\\site-packages (from ultralytics) (6.0.0)\n",
      "Requirement already satisfied: py-cpuinfo in c:\\users\\roscoekerby\\pycharmprojects\\idscanpipeline2024-10-15\\.venv\\lib\\site-packages (from ultralytics) (9.0.0)\n",
      "Requirement already satisfied: pandas>=1.1.4 in c:\\users\\roscoekerby\\pycharmprojects\\idscanpipeline2024-10-15\\.venv\\lib\\site-packages (from ultralytics) (2.2.3)\n",
      "Requirement already satisfied: seaborn>=0.11.0 in c:\\users\\roscoekerby\\pycharmprojects\\idscanpipeline2024-10-15\\.venv\\lib\\site-packages (from ultralytics) (0.13.2)\n",
      "Requirement already satisfied: ultralytics-thop>=2.0.0 in c:\\users\\roscoekerby\\pycharmprojects\\idscanpipeline2024-10-15\\.venv\\lib\\site-packages (from ultralytics) (2.0.9)\n",
      "Requirement already satisfied: contourpy>=1.0.1 in c:\\users\\roscoekerby\\pycharmprojects\\idscanpipeline2024-10-15\\.venv\\lib\\site-packages (from matplotlib>=3.3.0->ultralytics) (1.3.0)\n",
      "Requirement already satisfied: cycler>=0.10 in c:\\users\\roscoekerby\\pycharmprojects\\idscanpipeline2024-10-15\\.venv\\lib\\site-packages (from matplotlib>=3.3.0->ultralytics) (0.12.1)\n",
      "Requirement already satisfied: fonttools>=4.22.0 in c:\\users\\roscoekerby\\pycharmprojects\\idscanpipeline2024-10-15\\.venv\\lib\\site-packages (from matplotlib>=3.3.0->ultralytics) (4.54.1)\n",
      "Requirement already satisfied: kiwisolver>=1.3.1 in c:\\users\\roscoekerby\\pycharmprojects\\idscanpipeline2024-10-15\\.venv\\lib\\site-packages (from matplotlib>=3.3.0->ultralytics) (1.4.7)\n",
      "Requirement already satisfied: packaging>=20.0 in c:\\users\\roscoekerby\\pycharmprojects\\idscanpipeline2024-10-15\\.venv\\lib\\site-packages (from matplotlib>=3.3.0->ultralytics) (24.1)\n",
      "Requirement already satisfied: pyparsing>=2.3.1 in c:\\users\\roscoekerby\\pycharmprojects\\idscanpipeline2024-10-15\\.venv\\lib\\site-packages (from matplotlib>=3.3.0->ultralytics) (3.2.0)\n",
      "Requirement already satisfied: python-dateutil>=2.7 in c:\\users\\roscoekerby\\pycharmprojects\\idscanpipeline2024-10-15\\.venv\\lib\\site-packages (from matplotlib>=3.3.0->ultralytics) (2.9.0.post0)\n",
      "Requirement already satisfied: pytz>=2020.1 in c:\\users\\roscoekerby\\pycharmprojects\\idscanpipeline2024-10-15\\.venv\\lib\\site-packages (from pandas>=1.1.4->ultralytics) (2024.2)\n",
      "Requirement already satisfied: tzdata>=2022.7 in c:\\users\\roscoekerby\\pycharmprojects\\idscanpipeline2024-10-15\\.venv\\lib\\site-packages (from pandas>=1.1.4->ultralytics) (2024.2)\n",
      "Requirement already satisfied: charset-normalizer<4,>=2 in c:\\users\\roscoekerby\\pycharmprojects\\idscanpipeline2024-10-15\\.venv\\lib\\site-packages (from requests>=2.23.0->ultralytics) (3.4.0)\n",
      "Requirement already satisfied: idna<4,>=2.5 in c:\\users\\roscoekerby\\pycharmprojects\\idscanpipeline2024-10-15\\.venv\\lib\\site-packages (from requests>=2.23.0->ultralytics) (3.10)\n",
      "Requirement already satisfied: urllib3<3,>=1.21.1 in c:\\users\\roscoekerby\\pycharmprojects\\idscanpipeline2024-10-15\\.venv\\lib\\site-packages (from requests>=2.23.0->ultralytics) (2.2.3)\n",
      "Requirement already satisfied: certifi>=2017.4.17 in c:\\users\\roscoekerby\\pycharmprojects\\idscanpipeline2024-10-15\\.venv\\lib\\site-packages (from requests>=2.23.0->ultralytics) (2024.8.30)\n",
      "Requirement already satisfied: filelock in c:\\users\\roscoekerby\\pycharmprojects\\idscanpipeline2024-10-15\\.venv\\lib\\site-packages (from torch>=1.8.0->ultralytics) (3.16.1)\n",
      "Requirement already satisfied: typing-extensions>=4.8.0 in c:\\users\\roscoekerby\\pycharmprojects\\idscanpipeline2024-10-15\\.venv\\lib\\site-packages (from torch>=1.8.0->ultralytics) (4.12.2)\n",
      "Requirement already satisfied: sympy in c:\\users\\roscoekerby\\pycharmprojects\\idscanpipeline2024-10-15\\.venv\\lib\\site-packages (from torch>=1.8.0->ultralytics) (1.13.3)\n",
      "Requirement already satisfied: networkx in c:\\users\\roscoekerby\\pycharmprojects\\idscanpipeline2024-10-15\\.venv\\lib\\site-packages (from torch>=1.8.0->ultralytics) (3.4.1)\n",
      "Requirement already satisfied: jinja2 in c:\\users\\roscoekerby\\pycharmprojects\\idscanpipeline2024-10-15\\.venv\\lib\\site-packages (from torch>=1.8.0->ultralytics) (3.1.4)\n",
      "Requirement already satisfied: fsspec in c:\\users\\roscoekerby\\pycharmprojects\\idscanpipeline2024-10-15\\.venv\\lib\\site-packages (from torch>=1.8.0->ultralytics) (2024.9.0)\n",
      "Requirement already satisfied: setuptools in c:\\users\\roscoekerby\\pycharmprojects\\idscanpipeline2024-10-15\\.venv\\lib\\site-packages (from torch>=1.8.0->ultralytics) (75.1.0)\n",
      "Requirement already satisfied: colorama in c:\\users\\roscoekerby\\pycharmprojects\\idscanpipeline2024-10-15\\.venv\\lib\\site-packages (from tqdm>=4.64.0->ultralytics) (0.4.6)\n",
      "Requirement already satisfied: six>=1.5 in c:\\users\\roscoekerby\\pycharmprojects\\idscanpipeline2024-10-15\\.venv\\lib\\site-packages (from python-dateutil>=2.7->matplotlib>=3.3.0->ultralytics) (1.16.0)\n",
      "Requirement already satisfied: MarkupSafe>=2.0 in c:\\users\\roscoekerby\\pycharmprojects\\idscanpipeline2024-10-15\\.venv\\lib\\site-packages (from jinja2->torch>=1.8.0->ultralytics) (3.0.1)\n",
      "Requirement already satisfied: mpmath<1.4,>=1.1.0 in c:\\users\\roscoekerby\\pycharmprojects\\idscanpipeline2024-10-15\\.venv\\lib\\site-packages (from sympy->torch>=1.8.0->ultralytics) (1.3.0)\n"
     ]
    },
    {
     "name": "stderr",
     "output_type": "stream",
     "text": [
      "\n",
      "[notice] A new release of pip is available: 23.2.1 -> 24.2\n",
      "[notice] To update, run: python.exe -m pip install --upgrade pip\n"
     ]
    }
   ],
   "execution_count": 2
  },
  {
   "metadata": {
    "ExecuteTime": {
     "end_time": "2024-10-17T10:56:09.711161Z",
     "start_time": "2024-10-17T10:55:59.127145Z"
    }
   },
   "cell_type": "code",
   "source": "# !git clone https://github.com/ultralytics/ultralytics",
   "id": "a993456c1910bf80",
   "outputs": [
    {
     "name": "stderr",
     "output_type": "stream",
     "text": [
      "Cloning into 'ultralytics'...\n"
     ]
    }
   ],
   "execution_count": 9
  },
  {
   "metadata": {
    "ExecuteTime": {
     "end_time": "2024-10-17T13:45:49.245585Z",
     "start_time": "2024-10-17T13:45:49.216220Z"
    }
   },
   "cell_type": "code",
   "source": "ls",
   "id": "f60b6879015e8daf",
   "outputs": [
    {
     "name": "stdout",
     "output_type": "stream",
     "text": [
      " Volume in drive C is Windows-SSD\n",
      " Volume Serial Number is B32A-E980\n",
      "\n",
      " Directory of C:\\Users\\RoscoeKerby\\PycharmProjects\\Dog Pipeline\n",
      "\n",
      "2024/10/17  15:45    <DIR>          .\n",
      "2024/10/17  15:41    <DIR>          ..\n",
      "2024/10/17  15:21    <DIR>          .idea\n",
      "2024/10/17  15:22    <DIR>          .venv\n",
      "2024/10/17  15:22    <DIR>          annotated_muzzle_yolo_images\n",
      "2024/10/15  23:12            59ÿ280 cow_identification_test_results_multiday_single_train_image_class_1_2024-10-15_ordered_by_score.csv\n",
      "2024/10/15  22:44            59ÿ388 cow_identification_test_results_multiday_single_train_image_class_2_2024-10-15_ordered_by_score.csv\n",
      "2024/10/15  22:46            59ÿ356 cow_identification_test_results_multiday_single_train_image_class_3_2024-10-15_ordered_by_score.csv\n",
      "2024/10/15  22:30            63ÿ513 cow_identification_test_results_multiday_single_train_image_class_cmr27_2024-10-15_ordered_by_score.csv\n",
      "2024/10/17  15:22    <DIR>          cropped_sweetspot_images\n",
      "2024/10/17  15:22    <DIR>          lanseria-muzzle-images\n",
      "2024/10/15  17:54         6ÿ325ÿ849 muzzle_yolo_24_09_2024.pt\n",
      "2024/10/15  22:19         2ÿ724ÿ342 poc-cattle-verification-with-visualization-results.ipynb\n",
      "2024/10/16  13:34           259ÿ659 poc-cattle-verification-with-visualization-results1.ipynb\n",
      "2024/10/17  15:22    <DIR>          preprocessed_sweetspot_images\n",
      "2024/10/17  15:22    <DIR>          results_2024-10-16\n",
      "2024/10/17  15:45    <DIR>          runs\n",
      "2024/10/15  22:07         6ÿ217ÿ177 sweet_spot_yolo_25_07_2024.pt\n",
      "2024/10/17  15:45         5ÿ613ÿ764 yolo11n.pt\n",
      "               9 File(s)     21ÿ382ÿ328 bytes\n",
      "              10 Dir(s)  375ÿ672ÿ651ÿ776 bytes free\n"
     ]
    }
   ],
   "execution_count": 7
  },
  {
   "metadata": {
    "ExecuteTime": {
     "end_time": "2024-10-17T10:58:44.318648Z",
     "start_time": "2024-10-17T10:58:44.313332Z"
    }
   },
   "cell_type": "code",
   "source": "# cd ultralytics",
   "id": "127526e2981271ad",
   "outputs": [
    {
     "name": "stdout",
     "output_type": "stream",
     "text": [
      "C:\\Users\\RoscoeKerby\\PycharmProjects\\yolo11\\.venv\\Lib\\ultralytics\n"
     ]
    },
    {
     "name": "stderr",
     "output_type": "stream",
     "text": [
      "C:\\Users\\RoscoeKerby\\PycharmProjects\\yolo11\\.venv\\Lib\\site-packages\\IPython\\core\\magics\\osm.py:417: UserWarning: This is now an optional IPython functionality, setting dhist requires you to install the `pickleshare` library.\n",
      "  self.shell.db['dhist'] = compress_dhist(dhist)[-100:]\n"
     ]
    }
   ],
   "execution_count": 11
  },
  {
   "metadata": {
    "ExecuteTime": {
     "end_time": "2024-10-17T13:51:28.168812Z",
     "start_time": "2024-10-17T13:51:22.415385Z"
    }
   },
   "cell_type": "code",
   "source": [
    "from ultralytics import YOLO\n",
    "\n",
    "# Load a model\n",
    "model = YOLO(\"yolo11n.pt\")  # load a pretrained model (recommended for training)\n",
    "\n",
    "# Train the model\n",
    "# results = model.train(data=\"custom_data.yaml\", epochs=100, imgsz=640)"
   ],
   "id": "3f85a18060585898",
   "outputs": [
    {
     "name": "stdout",
     "output_type": "stream",
     "text": [
      "Downloading https://github.com/ultralytics/assets/releases/download/v8.3.0/yolo11n.pt to 'yolo11n.pt'...\n"
     ]
    },
    {
     "name": "stderr",
     "output_type": "stream",
     "text": [
      "100%|██████████| 5.35M/5.35M [00:00<00:00, 7.67MB/s]\n"
     ]
    }
   ],
   "execution_count": 2
  },
  {
   "metadata": {
    "ExecuteTime": {
     "end_time": "2024-10-17T13:53:31.107858Z",
     "start_time": "2024-10-17T13:52:03.786955Z"
    }
   },
   "cell_type": "code",
   "source": "model.train(data='custom_data.yaml', epochs=100, batch=16)",
   "id": "40800285faaf6e1b",
   "outputs": [
    {
     "name": "stdout",
     "output_type": "stream",
     "text": [
      "Ultralytics 8.3.15  Python-3.12.3 torch-2.4.1+cpu CPU (AMD Ryzen 5 5600H with Radeon Graphics)\n",
      "\u001B[34m\u001B[1mengine\\trainer: \u001B[0mtask=detect, mode=train, model=yolo11n.pt, data=custom_data.yaml, epochs=100, time=None, patience=100, batch=16, imgsz=640, save=True, save_period=-1, cache=False, device=None, workers=8, project=None, name=train3, exist_ok=False, pretrained=True, optimizer=auto, verbose=True, seed=0, deterministic=True, single_cls=False, rect=False, cos_lr=False, close_mosaic=10, resume=False, amp=True, fraction=1.0, profile=False, freeze=None, multi_scale=False, overlap_mask=True, mask_ratio=4, dropout=0.0, val=True, split=val, save_json=False, save_hybrid=False, conf=None, iou=0.7, max_det=300, half=False, dnn=False, plots=True, source=None, vid_stride=1, stream_buffer=False, visualize=False, augment=False, agnostic_nms=False, classes=None, retina_masks=False, embed=None, show=False, save_frames=False, save_txt=False, save_conf=False, save_crop=False, show_labels=True, show_conf=True, show_boxes=True, line_width=None, format=torchscript, keras=False, optimize=False, int8=False, dynamic=False, simplify=True, opset=None, workspace=4, nms=False, lr0=0.01, lrf=0.01, momentum=0.937, weight_decay=0.0005, warmup_epochs=3.0, warmup_momentum=0.8, warmup_bias_lr=0.1, box=7.5, cls=0.5, dfl=1.5, pose=12.0, kobj=1.0, label_smoothing=0.0, nbs=64, hsv_h=0.015, hsv_s=0.7, hsv_v=0.4, degrees=0.0, translate=0.1, scale=0.5, shear=0.0, perspective=0.0, flipud=0.0, fliplr=0.5, bgr=0.0, mosaic=1.0, mixup=0.0, copy_paste=0.0, copy_paste_mode=flip, auto_augment=randaugment, erasing=0.4, crop_fraction=1.0, cfg=None, tracker=botsort.yaml, save_dir=runs\\detect\\train3\n",
      "Overriding model.yaml nc=80 with nc=1\n",
      "\n",
      "                   from  n    params  module                                       arguments                     \n",
      "  0                  -1  1       464  ultralytics.nn.modules.conv.Conv             [3, 16, 3, 2]                 \n",
      "  1                  -1  1      4672  ultralytics.nn.modules.conv.Conv             [16, 32, 3, 2]                \n",
      "  2                  -1  1      6640  ultralytics.nn.modules.block.C3k2            [32, 64, 1, False, 0.25]      \n",
      "  3                  -1  1     36992  ultralytics.nn.modules.conv.Conv             [64, 64, 3, 2]                \n",
      "  4                  -1  1     26080  ultralytics.nn.modules.block.C3k2            [64, 128, 1, False, 0.25]     \n",
      "  5                  -1  1    147712  ultralytics.nn.modules.conv.Conv             [128, 128, 3, 2]              \n",
      "  6                  -1  1     87040  ultralytics.nn.modules.block.C3k2            [128, 128, 1, True]           \n",
      "  7                  -1  1    295424  ultralytics.nn.modules.conv.Conv             [128, 256, 3, 2]              \n",
      "  8                  -1  1    346112  ultralytics.nn.modules.block.C3k2            [256, 256, 1, True]           \n",
      "  9                  -1  1    164608  ultralytics.nn.modules.block.SPPF            [256, 256, 5]                 \n",
      " 10                  -1  1    249728  ultralytics.nn.modules.block.C2PSA           [256, 256, 1]                 \n",
      " 11                  -1  1         0  torch.nn.modules.upsampling.Upsample         [None, 2, 'nearest']          \n",
      " 12             [-1, 6]  1         0  ultralytics.nn.modules.conv.Concat           [1]                           \n",
      " 13                  -1  1    111296  ultralytics.nn.modules.block.C3k2            [384, 128, 1, False]          \n",
      " 14                  -1  1         0  torch.nn.modules.upsampling.Upsample         [None, 2, 'nearest']          \n",
      " 15             [-1, 4]  1         0  ultralytics.nn.modules.conv.Concat           [1]                           \n",
      " 16                  -1  1     32096  ultralytics.nn.modules.block.C3k2            [256, 64, 1, False]           \n",
      " 17                  -1  1     36992  ultralytics.nn.modules.conv.Conv             [64, 64, 3, 2]                \n",
      " 18            [-1, 13]  1         0  ultralytics.nn.modules.conv.Concat           [1]                           \n",
      " 19                  -1  1     86720  ultralytics.nn.modules.block.C3k2            [192, 128, 1, False]          \n",
      " 20                  -1  1    147712  ultralytics.nn.modules.conv.Conv             [128, 128, 3, 2]              \n",
      " 21            [-1, 10]  1         0  ultralytics.nn.modules.conv.Concat           [1]                           \n",
      " 22                  -1  1    378880  ultralytics.nn.modules.block.C3k2            [384, 256, 1, True]           \n",
      " 23        [16, 19, 22]  1    430867  ultralytics.nn.modules.head.Detect           [1, [64, 128, 256]]           \n",
      "YOLO11n summary: 319 layers, 2,590,035 parameters, 2,590,019 gradients, 6.4 GFLOPs\n",
      "\n",
      "Transferred 79/499 items from pretrained weights\n",
      "Freezing layer 'model.23.dfl.conv.weight'\n"
     ]
    },
    {
     "name": "stderr",
     "output_type": "stream",
     "text": [
      "\u001B[34m\u001B[1mtrain: \u001B[0mScanning C:\\Users\\RoscoeKerby\\PycharmProjects\\yolo11\\.venv\\Lib\\train\\labels.cache... 40 images, 0 backgrounds, 0 corrupt: 100%|██████████| 40/40 [00:00<?, ?it/s]"
     ]
    },
    {
     "name": "stdout",
     "output_type": "stream",
     "text": [
      "\u001B[34m\u001B[1mtrain: \u001B[0mWARNING  C:\\Users\\RoscoeKerby\\PycharmProjects\\yolo11\\.venv\\Lib\\train\\images\\20230706_095707.jpg: corrupt JPEG restored and saved\n",
      "\u001B[34m\u001B[1mtrain: \u001B[0mWARNING  C:\\Users\\RoscoeKerby\\PycharmProjects\\yolo11\\.venv\\Lib\\train\\images\\20230706_095733.jpg: corrupt JPEG restored and saved\n",
      "\u001B[34m\u001B[1mtrain: \u001B[0mWARNING  C:\\Users\\RoscoeKerby\\PycharmProjects\\yolo11\\.venv\\Lib\\train\\images\\20230706_095736.jpg: corrupt JPEG restored and saved\n",
      "\u001B[34m\u001B[1mtrain: \u001B[0mWARNING  C:\\Users\\RoscoeKerby\\PycharmProjects\\yolo11\\.venv\\Lib\\train\\images\\20230706_100018.jpg: corrupt JPEG restored and saved\n",
      "\u001B[34m\u001B[1mtrain: \u001B[0mWARNING  C:\\Users\\RoscoeKerby\\PycharmProjects\\yolo11\\.venv\\Lib\\train\\images\\20230706_100027.jpg: corrupt JPEG restored and saved\n",
      "\u001B[34m\u001B[1mtrain: \u001B[0mWARNING  C:\\Users\\RoscoeKerby\\PycharmProjects\\yolo11\\.venv\\Lib\\train\\images\\20230706_102026.jpg: corrupt JPEG restored and saved\n",
      "\u001B[34m\u001B[1mtrain: \u001B[0mWARNING  C:\\Users\\RoscoeKerby\\PycharmProjects\\yolo11\\.venv\\Lib\\train\\images\\20230706_102028.jpg: corrupt JPEG restored and saved\n",
      "\u001B[34m\u001B[1mtrain: \u001B[0mWARNING  C:\\Users\\RoscoeKerby\\PycharmProjects\\yolo11\\.venv\\Lib\\train\\images\\20230706_102922.jpg: corrupt JPEG restored and saved\n",
      "\u001B[34m\u001B[1mtrain: \u001B[0mWARNING  C:\\Users\\RoscoeKerby\\PycharmProjects\\yolo11\\.venv\\Lib\\train\\images\\20230706_103816.jpg: corrupt JPEG restored and saved\n",
      "\u001B[34m\u001B[1mtrain: \u001B[0mWARNING  C:\\Users\\RoscoeKerby\\PycharmProjects\\yolo11\\.venv\\Lib\\train\\images\\20230706_103818.jpg: corrupt JPEG restored and saved\n",
      "\u001B[34m\u001B[1mtrain: \u001B[0mWARNING  C:\\Users\\RoscoeKerby\\PycharmProjects\\yolo11\\.venv\\Lib\\train\\images\\20230706_104737.jpg: corrupt JPEG restored and saved\n",
      "\u001B[34m\u001B[1mtrain: \u001B[0mWARNING  C:\\Users\\RoscoeKerby\\PycharmProjects\\yolo11\\.venv\\Lib\\train\\images\\20230706_104745.jpg: corrupt JPEG restored and saved\n",
      "\u001B[34m\u001B[1mtrain: \u001B[0mWARNING  C:\\Users\\RoscoeKerby\\PycharmProjects\\yolo11\\.venv\\Lib\\train\\images\\20230706_104747.jpg: corrupt JPEG restored and saved\n",
      "\u001B[34m\u001B[1mtrain: \u001B[0mWARNING  C:\\Users\\RoscoeKerby\\PycharmProjects\\yolo11\\.venv\\Lib\\train\\images\\20230706_104800.jpg: corrupt JPEG restored and saved\n",
      "\u001B[34m\u001B[1mtrain: \u001B[0mWARNING  C:\\Users\\RoscoeKerby\\PycharmProjects\\yolo11\\.venv\\Lib\\train\\images\\20230706_105336.jpg: corrupt JPEG restored and saved\n",
      "\u001B[34m\u001B[1mtrain: \u001B[0mWARNING  C:\\Users\\RoscoeKerby\\PycharmProjects\\yolo11\\.venv\\Lib\\train\\images\\20230706_105341.jpg: corrupt JPEG restored and saved\n",
      "\u001B[34m\u001B[1mtrain: \u001B[0mWARNING  C:\\Users\\RoscoeKerby\\PycharmProjects\\yolo11\\.venv\\Lib\\train\\images\\20230706_105342(0).jpg: corrupt JPEG restored and saved\n",
      "\u001B[34m\u001B[1mtrain: \u001B[0mWARNING  C:\\Users\\RoscoeKerby\\PycharmProjects\\yolo11\\.venv\\Lib\\train\\images\\20230706_110141.jpg: corrupt JPEG restored and saved\n",
      "\u001B[34m\u001B[1mtrain: \u001B[0mWARNING  C:\\Users\\RoscoeKerby\\PycharmProjects\\yolo11\\.venv\\Lib\\train\\images\\20230706_110201.jpg: corrupt JPEG restored and saved\n",
      "\u001B[34m\u001B[1mtrain: \u001B[0mWARNING  C:\\Users\\RoscoeKerby\\PycharmProjects\\yolo11\\.venv\\Lib\\train\\images\\20230706_110202.jpg: corrupt JPEG restored and saved\n",
      "\u001B[34m\u001B[1mtrain: \u001B[0mWARNING  C:\\Users\\RoscoeKerby\\PycharmProjects\\yolo11\\.venv\\Lib\\train\\images\\20230706_110814.jpg: corrupt JPEG restored and saved\n",
      "\u001B[34m\u001B[1mtrain: \u001B[0mWARNING  C:\\Users\\RoscoeKerby\\PycharmProjects\\yolo11\\.venv\\Lib\\train\\images\\20230706_110828.jpg: corrupt JPEG restored and saved\n",
      "\u001B[34m\u001B[1mtrain: \u001B[0mWARNING  C:\\Users\\RoscoeKerby\\PycharmProjects\\yolo11\\.venv\\Lib\\train\\images\\20230706_111950.jpg: corrupt JPEG restored and saved\n",
      "\u001B[34m\u001B[1mtrain: \u001B[0mWARNING  C:\\Users\\RoscoeKerby\\PycharmProjects\\yolo11\\.venv\\Lib\\train\\images\\20230706_111952(0).jpg: corrupt JPEG restored and saved\n",
      "\u001B[34m\u001B[1mtrain: \u001B[0mWARNING  C:\\Users\\RoscoeKerby\\PycharmProjects\\yolo11\\.venv\\Lib\\train\\images\\20230706_112517(0).jpg: corrupt JPEG restored and saved\n",
      "\u001B[34m\u001B[1mtrain: \u001B[0mWARNING  C:\\Users\\RoscoeKerby\\PycharmProjects\\yolo11\\.venv\\Lib\\train\\images\\20230706_112519.jpg: corrupt JPEG restored and saved\n",
      "\u001B[34m\u001B[1mtrain: \u001B[0mWARNING  C:\\Users\\RoscoeKerby\\PycharmProjects\\yolo11\\.venv\\Lib\\train\\images\\20230706_112746.jpg: corrupt JPEG restored and saved\n",
      "\u001B[34m\u001B[1mtrain: \u001B[0mWARNING  C:\\Users\\RoscoeKerby\\PycharmProjects\\yolo11\\.venv\\Lib\\train\\images\\20230706_112750.jpg: corrupt JPEG restored and saved\n",
      "\u001B[34m\u001B[1mtrain: \u001B[0mWARNING  C:\\Users\\RoscoeKerby\\PycharmProjects\\yolo11\\.venv\\Lib\\train\\images\\20230706_112825.jpg: corrupt JPEG restored and saved\n",
      "\u001B[34m\u001B[1mtrain: \u001B[0mWARNING  C:\\Users\\RoscoeKerby\\PycharmProjects\\yolo11\\.venv\\Lib\\train\\images\\20230706_114502.jpg: corrupt JPEG restored and saved\n",
      "\u001B[34m\u001B[1mtrain: \u001B[0mWARNING  C:\\Users\\RoscoeKerby\\PycharmProjects\\yolo11\\.venv\\Lib\\train\\images\\20230706_114504.jpg: corrupt JPEG restored and saved\n",
      "\u001B[34m\u001B[1mtrain: \u001B[0mWARNING  C:\\Users\\RoscoeKerby\\PycharmProjects\\yolo11\\.venv\\Lib\\train\\images\\20230706_114954.jpg: corrupt JPEG restored and saved\n",
      "\u001B[34m\u001B[1mtrain: \u001B[0mWARNING  C:\\Users\\RoscoeKerby\\PycharmProjects\\yolo11\\.venv\\Lib\\train\\images\\20230706_115905.jpg: corrupt JPEG restored and saved\n",
      "\u001B[34m\u001B[1mtrain: \u001B[0mWARNING  C:\\Users\\RoscoeKerby\\PycharmProjects\\yolo11\\.venv\\Lib\\train\\images\\20230706_120157.jpg: corrupt JPEG restored and saved\n",
      "\u001B[34m\u001B[1mtrain: \u001B[0mWARNING  C:\\Users\\RoscoeKerby\\PycharmProjects\\yolo11\\.venv\\Lib\\train\\images\\20230706_121326.jpg: corrupt JPEG restored and saved\n",
      "\u001B[34m\u001B[1mtrain: \u001B[0mWARNING  C:\\Users\\RoscoeKerby\\PycharmProjects\\yolo11\\.venv\\Lib\\train\\images\\20230706_122001.jpg: corrupt JPEG restored and saved\n",
      "\u001B[34m\u001B[1mtrain: \u001B[0mWARNING  C:\\Users\\RoscoeKerby\\PycharmProjects\\yolo11\\.venv\\Lib\\train\\images\\20230706_122002.jpg: corrupt JPEG restored and saved\n",
      "\u001B[34m\u001B[1mtrain: \u001B[0mWARNING  C:\\Users\\RoscoeKerby\\PycharmProjects\\yolo11\\.venv\\Lib\\train\\images\\20230706_123411.jpg: corrupt JPEG restored and saved\n",
      "\u001B[34m\u001B[1mtrain: \u001B[0mWARNING  C:\\Users\\RoscoeKerby\\PycharmProjects\\yolo11\\.venv\\Lib\\train\\images\\20230706_123554.jpg: corrupt JPEG restored and saved\n",
      "\u001B[34m\u001B[1mtrain: \u001B[0mWARNING  C:\\Users\\RoscoeKerby\\PycharmProjects\\yolo11\\.venv\\Lib\\train\\images\\20230706_123558.jpg: corrupt JPEG restored and saved\n"
     ]
    },
    {
     "name": "stderr",
     "output_type": "stream",
     "text": [
      "\n",
      "\u001B[34m\u001B[1mval: \u001B[0mScanning C:\\Users\\RoscoeKerby\\PycharmProjects\\yolo11\\.venv\\Lib\\val\\labels.cache... 10 images, 0 backgrounds, 0 corrupt: 100%|██████████| 10/10 [00:00<?, ?it/s]"
     ]
    },
    {
     "name": "stdout",
     "output_type": "stream",
     "text": [
      "\u001B[34m\u001B[1mval: \u001B[0mWARNING  C:\\Users\\RoscoeKerby\\PycharmProjects\\yolo11\\.venv\\Lib\\val\\images\\20230706_102907.jpg: corrupt JPEG restored and saved\n",
      "\u001B[34m\u001B[1mval: \u001B[0mWARNING  C:\\Users\\RoscoeKerby\\PycharmProjects\\yolo11\\.venv\\Lib\\val\\images\\20230706_103214.jpg: corrupt JPEG restored and saved\n",
      "\u001B[34m\u001B[1mval: \u001B[0mWARNING  C:\\Users\\RoscoeKerby\\PycharmProjects\\yolo11\\.venv\\Lib\\val\\images\\20230706_103215.jpg: corrupt JPEG restored and saved\n",
      "\u001B[34m\u001B[1mval: \u001B[0mWARNING  C:\\Users\\RoscoeKerby\\PycharmProjects\\yolo11\\.venv\\Lib\\val\\images\\20230706_110810.jpg: corrupt JPEG restored and saved\n",
      "\u001B[34m\u001B[1mval: \u001B[0mWARNING  C:\\Users\\RoscoeKerby\\PycharmProjects\\yolo11\\.venv\\Lib\\val\\images\\20230706_111937(0).jpg: corrupt JPEG restored and saved\n",
      "\u001B[34m\u001B[1mval: \u001B[0mWARNING  C:\\Users\\RoscoeKerby\\PycharmProjects\\yolo11\\.venv\\Lib\\val\\images\\20230706_111938.jpg: corrupt JPEG restored and saved\n",
      "\u001B[34m\u001B[1mval: \u001B[0mWARNING  C:\\Users\\RoscoeKerby\\PycharmProjects\\yolo11\\.venv\\Lib\\val\\images\\20230706_114956.jpg: corrupt JPEG restored and saved\n",
      "\u001B[34m\u001B[1mval: \u001B[0mWARNING  C:\\Users\\RoscoeKerby\\PycharmProjects\\yolo11\\.venv\\Lib\\val\\images\\20230706_120154.jpg: corrupt JPEG restored and saved\n",
      "\u001B[34m\u001B[1mval: \u001B[0mWARNING  C:\\Users\\RoscoeKerby\\PycharmProjects\\yolo11\\.venv\\Lib\\val\\images\\20230706_121319.jpg: corrupt JPEG restored and saved\n",
      "\u001B[34m\u001B[1mval: \u001B[0mWARNING  C:\\Users\\RoscoeKerby\\PycharmProjects\\yolo11\\.venv\\Lib\\val\\images\\20230706_123409.jpg: corrupt JPEG restored and saved\n"
     ]
    },
    {
     "name": "stderr",
     "output_type": "stream",
     "text": [
      "\n"
     ]
    },
    {
     "name": "stdout",
     "output_type": "stream",
     "text": [
      "Plotting labels to runs\\detect\\train3\\labels.jpg... \n",
      "\u001B[34m\u001B[1moptimizer:\u001B[0m 'optimizer=auto' found, ignoring 'lr0=0.01' and 'momentum=0.937' and determining best 'optimizer', 'lr0' and 'momentum' automatically... \n",
      "\u001B[34m\u001B[1moptimizer:\u001B[0m AdamW(lr=0.002, momentum=0.9) with parameter groups 81 weight(decay=0.0), 88 weight(decay=0.0005), 87 bias(decay=0.0)\n",
      "Image sizes 640 train, 640 val\n",
      "Using 0 dataloader workers\n",
      "Logging results to \u001B[1mruns\\detect\\train3\u001B[0m\n",
      "Starting training for 100 epochs...\n",
      "\n",
      "      Epoch    GPU_mem   box_loss   cls_loss   dfl_loss  Instances       Size\n"
     ]
    },
    {
     "name": "stderr",
     "output_type": "stream",
     "text": [
      "      1/100         0G      2.629      4.288      2.691         14        640: 100%|██████████| 3/3 [00:15<00:00,  5.24s/it]\n",
      "                 Class     Images  Instances      Box(P          R      mAP50  mAP50-95): 100%|██████████| 1/1 [00:02<00:00,  2.42s/it]"
     ]
    },
    {
     "name": "stdout",
     "output_type": "stream",
     "text": [
      "                   all         10         10      0.003        0.9    0.00407    0.00103\n"
     ]
    },
    {
     "name": "stderr",
     "output_type": "stream",
     "text": [
      "\n"
     ]
    },
    {
     "name": "stdout",
     "output_type": "stream",
     "text": [
      "\n",
      "      Epoch    GPU_mem   box_loss   cls_loss   dfl_loss  Instances       Size\n"
     ]
    },
    {
     "name": "stderr",
     "output_type": "stream",
     "text": [
      "      2/100         0G       2.67      4.014      2.657         18        640: 100%|██████████| 3/3 [00:08<00:00,  2.87s/it]\n",
      "                 Class     Images  Instances      Box(P          R      mAP50  mAP50-95): 100%|██████████| 1/1 [00:01<00:00,  1.90s/it]"
     ]
    },
    {
     "name": "stdout",
     "output_type": "stream",
     "text": [
      "                   all         10         10    0.00267        0.8    0.00455    0.00112\n"
     ]
    },
    {
     "name": "stderr",
     "output_type": "stream",
     "text": [
      "\n"
     ]
    },
    {
     "name": "stdout",
     "output_type": "stream",
     "text": [
      "\n",
      "      Epoch    GPU_mem   box_loss   cls_loss   dfl_loss  Instances       Size\n"
     ]
    },
    {
     "name": "stderr",
     "output_type": "stream",
     "text": [
      "      3/100         0G      2.281      3.897      2.398         18        640: 100%|██████████| 3/3 [00:08<00:00,  2.93s/it]\n",
      "                 Class     Images  Instances      Box(P          R      mAP50  mAP50-95): 100%|██████████| 1/1 [00:01<00:00,  1.99s/it]"
     ]
    },
    {
     "name": "stdout",
     "output_type": "stream",
     "text": [
      "                   all         10         10    0.00267        0.8    0.00378    0.00113\n"
     ]
    },
    {
     "name": "stderr",
     "output_type": "stream",
     "text": [
      "\n"
     ]
    },
    {
     "name": "stdout",
     "output_type": "stream",
     "text": [
      "\n",
      "      Epoch    GPU_mem   box_loss   cls_loss   dfl_loss  Instances       Size\n"
     ]
    },
    {
     "name": "stderr",
     "output_type": "stream",
     "text": [
      "      4/100         0G      2.121      3.757      2.198         18        640: 100%|██████████| 3/3 [00:08<00:00,  2.94s/it]\n",
      "                 Class     Images  Instances      Box(P          R      mAP50  mAP50-95): 100%|██████████| 1/1 [00:02<00:00,  2.12s/it]"
     ]
    },
    {
     "name": "stdout",
     "output_type": "stream",
     "text": [
      "                   all         10         10    0.00267        0.8     0.0048    0.00136\n"
     ]
    },
    {
     "name": "stderr",
     "output_type": "stream",
     "text": [
      "\n"
     ]
    },
    {
     "name": "stdout",
     "output_type": "stream",
     "text": [
      "\n",
      "      Epoch    GPU_mem   box_loss   cls_loss   dfl_loss  Instances       Size\n"
     ]
    },
    {
     "name": "stderr",
     "output_type": "stream",
     "text": [
      "      5/100         0G      1.935      3.309      1.897         15        640: 100%|██████████| 3/3 [00:09<00:00,  3.13s/it]\n",
      "                 Class     Images  Instances      Box(P          R      mAP50  mAP50-95): 100%|██████████| 1/1 [00:02<00:00,  2.47s/it]"
     ]
    },
    {
     "name": "stdout",
     "output_type": "stream",
     "text": [
      "                   all         10         10    0.00267        0.8    0.00514    0.00191\n"
     ]
    },
    {
     "name": "stderr",
     "output_type": "stream",
     "text": [
      "\n"
     ]
    },
    {
     "name": "stdout",
     "output_type": "stream",
     "text": [
      "\n",
      "      Epoch    GPU_mem   box_loss   cls_loss   dfl_loss  Instances       Size\n"
     ]
    },
    {
     "name": "stderr",
     "output_type": "stream",
     "text": [
      "      6/100         0G      1.754      3.107      1.689         12        640: 100%|██████████| 3/3 [00:09<00:00,  3.07s/it]\n",
      "                 Class     Images  Instances      Box(P          R      mAP50  mAP50-95): 100%|██████████| 1/1 [00:02<00:00,  2.23s/it]"
     ]
    },
    {
     "name": "stdout",
     "output_type": "stream",
     "text": [
      "                   all         10         10    0.00267        0.8    0.00585    0.00212\n"
     ]
    },
    {
     "name": "stderr",
     "output_type": "stream",
     "text": [
      "\n"
     ]
    },
    {
     "name": "stdout",
     "output_type": "stream",
     "text": [
      "\n",
      "      Epoch    GPU_mem   box_loss   cls_loss   dfl_loss  Instances       Size\n"
     ]
    },
    {
     "name": "stderr",
     "output_type": "stream",
     "text": [
      "      7/100         0G      1.567        2.8      1.497         37        640:  33%|███▎      | 1/3 [00:07<00:15,  7.56s/it]\n"
     ]
    },
    {
     "ename": "KeyboardInterrupt",
     "evalue": "",
     "output_type": "error",
     "traceback": [
      "\u001B[1;31m---------------------------------------------------------------------------\u001B[0m",
      "\u001B[1;31mKeyboardInterrupt\u001B[0m                         Traceback (most recent call last)",
      "Cell \u001B[1;32mIn[8], line 1\u001B[0m\n\u001B[1;32m----> 1\u001B[0m \u001B[43mmodel\u001B[49m\u001B[38;5;241;43m.\u001B[39;49m\u001B[43mtrain\u001B[49m\u001B[43m(\u001B[49m\u001B[43mdata\u001B[49m\u001B[38;5;241;43m=\u001B[39;49m\u001B[38;5;124;43m'\u001B[39;49m\u001B[38;5;124;43mcustom_data.yaml\u001B[39;49m\u001B[38;5;124;43m'\u001B[39;49m\u001B[43m,\u001B[49m\u001B[43m \u001B[49m\u001B[43mepochs\u001B[49m\u001B[38;5;241;43m=\u001B[39;49m\u001B[38;5;241;43m100\u001B[39;49m\u001B[43m,\u001B[49m\u001B[43m \u001B[49m\u001B[43mbatch\u001B[49m\u001B[38;5;241;43m=\u001B[39;49m\u001B[38;5;241;43m16\u001B[39;49m\u001B[43m)\u001B[49m\n",
      "File \u001B[1;32m~\\PycharmProjects\\yolo11\\.venv\\Lib\\site-packages\\ultralytics\\engine\\model.py:802\u001B[0m, in \u001B[0;36mModel.train\u001B[1;34m(self, trainer, **kwargs)\u001B[0m\n\u001B[0;32m    799\u001B[0m     \u001B[38;5;28mself\u001B[39m\u001B[38;5;241m.\u001B[39mmodel \u001B[38;5;241m=\u001B[39m \u001B[38;5;28mself\u001B[39m\u001B[38;5;241m.\u001B[39mtrainer\u001B[38;5;241m.\u001B[39mmodel\n\u001B[0;32m    801\u001B[0m \u001B[38;5;28mself\u001B[39m\u001B[38;5;241m.\u001B[39mtrainer\u001B[38;5;241m.\u001B[39mhub_session \u001B[38;5;241m=\u001B[39m \u001B[38;5;28mself\u001B[39m\u001B[38;5;241m.\u001B[39msession  \u001B[38;5;66;03m# attach optional HUB session\u001B[39;00m\n\u001B[1;32m--> 802\u001B[0m \u001B[38;5;28;43mself\u001B[39;49m\u001B[38;5;241;43m.\u001B[39;49m\u001B[43mtrainer\u001B[49m\u001B[38;5;241;43m.\u001B[39;49m\u001B[43mtrain\u001B[49m\u001B[43m(\u001B[49m\u001B[43m)\u001B[49m\n\u001B[0;32m    803\u001B[0m \u001B[38;5;66;03m# Update model and cfg after training\u001B[39;00m\n\u001B[0;32m    804\u001B[0m \u001B[38;5;28;01mif\u001B[39;00m RANK \u001B[38;5;129;01min\u001B[39;00m {\u001B[38;5;241m-\u001B[39m\u001B[38;5;241m1\u001B[39m, \u001B[38;5;241m0\u001B[39m}:\n",
      "File \u001B[1;32m~\\PycharmProjects\\yolo11\\.venv\\Lib\\site-packages\\ultralytics\\engine\\trainer.py:207\u001B[0m, in \u001B[0;36mBaseTrainer.train\u001B[1;34m(self)\u001B[0m\n\u001B[0;32m    204\u001B[0m         ddp_cleanup(\u001B[38;5;28mself\u001B[39m, \u001B[38;5;28mstr\u001B[39m(file))\n\u001B[0;32m    206\u001B[0m \u001B[38;5;28;01melse\u001B[39;00m:\n\u001B[1;32m--> 207\u001B[0m     \u001B[38;5;28;43mself\u001B[39;49m\u001B[38;5;241;43m.\u001B[39;49m\u001B[43m_do_train\u001B[49m\u001B[43m(\u001B[49m\u001B[43mworld_size\u001B[49m\u001B[43m)\u001B[49m\n",
      "File \u001B[1;32m~\\PycharmProjects\\yolo11\\.venv\\Lib\\site-packages\\ultralytics\\engine\\trainer.py:393\u001B[0m, in \u001B[0;36mBaseTrainer._do_train\u001B[1;34m(self, world_size)\u001B[0m\n\u001B[0;32m    388\u001B[0m     \u001B[38;5;28mself\u001B[39m\u001B[38;5;241m.\u001B[39mtloss \u001B[38;5;241m=\u001B[39m (\n\u001B[0;32m    389\u001B[0m         (\u001B[38;5;28mself\u001B[39m\u001B[38;5;241m.\u001B[39mtloss \u001B[38;5;241m*\u001B[39m i \u001B[38;5;241m+\u001B[39m \u001B[38;5;28mself\u001B[39m\u001B[38;5;241m.\u001B[39mloss_items) \u001B[38;5;241m/\u001B[39m (i \u001B[38;5;241m+\u001B[39m \u001B[38;5;241m1\u001B[39m) \u001B[38;5;28;01mif\u001B[39;00m \u001B[38;5;28mself\u001B[39m\u001B[38;5;241m.\u001B[39mtloss \u001B[38;5;129;01mis\u001B[39;00m \u001B[38;5;129;01mnot\u001B[39;00m \u001B[38;5;28;01mNone\u001B[39;00m \u001B[38;5;28;01melse\u001B[39;00m \u001B[38;5;28mself\u001B[39m\u001B[38;5;241m.\u001B[39mloss_items\n\u001B[0;32m    390\u001B[0m     )\n\u001B[0;32m    392\u001B[0m \u001B[38;5;66;03m# Backward\u001B[39;00m\n\u001B[1;32m--> 393\u001B[0m \u001B[38;5;28;43mself\u001B[39;49m\u001B[38;5;241;43m.\u001B[39;49m\u001B[43mscaler\u001B[49m\u001B[38;5;241;43m.\u001B[39;49m\u001B[43mscale\u001B[49m\u001B[43m(\u001B[49m\u001B[38;5;28;43mself\u001B[39;49m\u001B[38;5;241;43m.\u001B[39;49m\u001B[43mloss\u001B[49m\u001B[43m)\u001B[49m\u001B[38;5;241;43m.\u001B[39;49m\u001B[43mbackward\u001B[49m\u001B[43m(\u001B[49m\u001B[43m)\u001B[49m\n\u001B[0;32m    395\u001B[0m \u001B[38;5;66;03m# Optimize - https://pytorch.org/docs/master/notes/amp_examples.html\u001B[39;00m\n\u001B[0;32m    396\u001B[0m \u001B[38;5;28;01mif\u001B[39;00m ni \u001B[38;5;241m-\u001B[39m last_opt_step \u001B[38;5;241m>\u001B[39m\u001B[38;5;241m=\u001B[39m \u001B[38;5;28mself\u001B[39m\u001B[38;5;241m.\u001B[39maccumulate:\n",
      "File \u001B[1;32m~\\PycharmProjects\\yolo11\\.venv\\Lib\\site-packages\\torch\\_tensor.py:521\u001B[0m, in \u001B[0;36mTensor.backward\u001B[1;34m(self, gradient, retain_graph, create_graph, inputs)\u001B[0m\n\u001B[0;32m    511\u001B[0m \u001B[38;5;28;01mif\u001B[39;00m has_torch_function_unary(\u001B[38;5;28mself\u001B[39m):\n\u001B[0;32m    512\u001B[0m     \u001B[38;5;28;01mreturn\u001B[39;00m handle_torch_function(\n\u001B[0;32m    513\u001B[0m         Tensor\u001B[38;5;241m.\u001B[39mbackward,\n\u001B[0;32m    514\u001B[0m         (\u001B[38;5;28mself\u001B[39m,),\n\u001B[1;32m   (...)\u001B[0m\n\u001B[0;32m    519\u001B[0m         inputs\u001B[38;5;241m=\u001B[39minputs,\n\u001B[0;32m    520\u001B[0m     )\n\u001B[1;32m--> 521\u001B[0m \u001B[43mtorch\u001B[49m\u001B[38;5;241;43m.\u001B[39;49m\u001B[43mautograd\u001B[49m\u001B[38;5;241;43m.\u001B[39;49m\u001B[43mbackward\u001B[49m\u001B[43m(\u001B[49m\n\u001B[0;32m    522\u001B[0m \u001B[43m    \u001B[49m\u001B[38;5;28;43mself\u001B[39;49m\u001B[43m,\u001B[49m\u001B[43m \u001B[49m\u001B[43mgradient\u001B[49m\u001B[43m,\u001B[49m\u001B[43m \u001B[49m\u001B[43mretain_graph\u001B[49m\u001B[43m,\u001B[49m\u001B[43m \u001B[49m\u001B[43mcreate_graph\u001B[49m\u001B[43m,\u001B[49m\u001B[43m \u001B[49m\u001B[43minputs\u001B[49m\u001B[38;5;241;43m=\u001B[39;49m\u001B[43minputs\u001B[49m\n\u001B[0;32m    523\u001B[0m \u001B[43m\u001B[49m\u001B[43m)\u001B[49m\n",
      "File \u001B[1;32m~\\PycharmProjects\\yolo11\\.venv\\Lib\\site-packages\\torch\\autograd\\__init__.py:289\u001B[0m, in \u001B[0;36mbackward\u001B[1;34m(tensors, grad_tensors, retain_graph, create_graph, grad_variables, inputs)\u001B[0m\n\u001B[0;32m    284\u001B[0m     retain_graph \u001B[38;5;241m=\u001B[39m create_graph\n\u001B[0;32m    286\u001B[0m \u001B[38;5;66;03m# The reason we repeat the same comment below is that\u001B[39;00m\n\u001B[0;32m    287\u001B[0m \u001B[38;5;66;03m# some Python versions print out the first line of a multi-line function\u001B[39;00m\n\u001B[0;32m    288\u001B[0m \u001B[38;5;66;03m# calls in the traceback and some print out the last line\u001B[39;00m\n\u001B[1;32m--> 289\u001B[0m \u001B[43m_engine_run_backward\u001B[49m\u001B[43m(\u001B[49m\n\u001B[0;32m    290\u001B[0m \u001B[43m    \u001B[49m\u001B[43mtensors\u001B[49m\u001B[43m,\u001B[49m\n\u001B[0;32m    291\u001B[0m \u001B[43m    \u001B[49m\u001B[43mgrad_tensors_\u001B[49m\u001B[43m,\u001B[49m\n\u001B[0;32m    292\u001B[0m \u001B[43m    \u001B[49m\u001B[43mretain_graph\u001B[49m\u001B[43m,\u001B[49m\n\u001B[0;32m    293\u001B[0m \u001B[43m    \u001B[49m\u001B[43mcreate_graph\u001B[49m\u001B[43m,\u001B[49m\n\u001B[0;32m    294\u001B[0m \u001B[43m    \u001B[49m\u001B[43minputs\u001B[49m\u001B[43m,\u001B[49m\n\u001B[0;32m    295\u001B[0m \u001B[43m    \u001B[49m\u001B[43mallow_unreachable\u001B[49m\u001B[38;5;241;43m=\u001B[39;49m\u001B[38;5;28;43;01mTrue\u001B[39;49;00m\u001B[43m,\u001B[49m\n\u001B[0;32m    296\u001B[0m \u001B[43m    \u001B[49m\u001B[43maccumulate_grad\u001B[49m\u001B[38;5;241;43m=\u001B[39;49m\u001B[38;5;28;43;01mTrue\u001B[39;49;00m\u001B[43m,\u001B[49m\n\u001B[0;32m    297\u001B[0m \u001B[43m\u001B[49m\u001B[43m)\u001B[49m\n",
      "File \u001B[1;32m~\\PycharmProjects\\yolo11\\.venv\\Lib\\site-packages\\torch\\autograd\\graph.py:769\u001B[0m, in \u001B[0;36m_engine_run_backward\u001B[1;34m(t_outputs, *args, **kwargs)\u001B[0m\n\u001B[0;32m    767\u001B[0m     unregister_hooks \u001B[38;5;241m=\u001B[39m _register_logging_hooks_on_whole_graph(t_outputs)\n\u001B[0;32m    768\u001B[0m \u001B[38;5;28;01mtry\u001B[39;00m:\n\u001B[1;32m--> 769\u001B[0m     \u001B[38;5;28;01mreturn\u001B[39;00m \u001B[43mVariable\u001B[49m\u001B[38;5;241;43m.\u001B[39;49m\u001B[43m_execution_engine\u001B[49m\u001B[38;5;241;43m.\u001B[39;49m\u001B[43mrun_backward\u001B[49m\u001B[43m(\u001B[49m\u001B[43m  \u001B[49m\u001B[38;5;66;43;03m# Calls into the C++ engine to run the backward pass\u001B[39;49;00m\n\u001B[0;32m    770\u001B[0m \u001B[43m        \u001B[49m\u001B[43mt_outputs\u001B[49m\u001B[43m,\u001B[49m\u001B[43m \u001B[49m\u001B[38;5;241;43m*\u001B[39;49m\u001B[43margs\u001B[49m\u001B[43m,\u001B[49m\u001B[43m \u001B[49m\u001B[38;5;241;43m*\u001B[39;49m\u001B[38;5;241;43m*\u001B[39;49m\u001B[43mkwargs\u001B[49m\n\u001B[0;32m    771\u001B[0m \u001B[43m    \u001B[49m\u001B[43m)\u001B[49m  \u001B[38;5;66;03m# Calls into the C++ engine to run the backward pass\u001B[39;00m\n\u001B[0;32m    772\u001B[0m \u001B[38;5;28;01mfinally\u001B[39;00m:\n\u001B[0;32m    773\u001B[0m     \u001B[38;5;28;01mif\u001B[39;00m attach_logging_hooks:\n",
      "\u001B[1;31mKeyboardInterrupt\u001B[0m: "
     ]
    }
   ],
   "execution_count": 8
  },
  {
   "metadata": {
    "ExecuteTime": {
     "end_time": "2024-10-17T13:51:33.022051Z",
     "start_time": "2024-10-17T13:51:32.769968Z"
    }
   },
   "cell_type": "code",
   "source": "metrics = model.val()  # evaluate model performance on the validation set",
   "id": "133a36b069fb4f54",
   "outputs": [
    {
     "name": "stdout",
     "output_type": "stream",
     "text": [
      "Ultralytics 8.3.15  Python-3.12.3 torch-2.4.1+cpu CPU (AMD Ryzen 5 5600H with Radeon Graphics)\n",
      "YOLO11n summary (fused): 238 layers, 2,616,248 parameters, 0 gradients, 6.5 GFLOPs\n"
     ]
    },
    {
     "ename": "FileNotFoundError",
     "evalue": "'/usr/src/ultralytics/ultralytics/cfg/datasets/coco.yaml' does not exist",
     "output_type": "error",
     "traceback": [
      "\u001B[1;31m---------------------------------------------------------------------------\u001B[0m",
      "\u001B[1;31mFileNotFoundError\u001B[0m                         Traceback (most recent call last)",
      "Cell \u001B[1;32mIn[4], line 1\u001B[0m\n\u001B[1;32m----> 1\u001B[0m metrics \u001B[38;5;241m=\u001B[39m \u001B[43mmodel\u001B[49m\u001B[38;5;241;43m.\u001B[39;49m\u001B[43mval\u001B[49m\u001B[43m(\u001B[49m\u001B[43m)\u001B[49m  \u001B[38;5;66;03m# evaluate model performance on the validation set\u001B[39;00m\n",
      "File \u001B[1;32m~\\PycharmProjects\\yolo11\\.venv\\Lib\\site-packages\\ultralytics\\engine\\model.py:635\u001B[0m, in \u001B[0;36mModel.val\u001B[1;34m(self, validator, **kwargs)\u001B[0m\n\u001B[0;32m    632\u001B[0m args \u001B[38;5;241m=\u001B[39m {\u001B[38;5;241m*\u001B[39m\u001B[38;5;241m*\u001B[39m\u001B[38;5;28mself\u001B[39m\u001B[38;5;241m.\u001B[39moverrides, \u001B[38;5;241m*\u001B[39m\u001B[38;5;241m*\u001B[39mcustom, \u001B[38;5;241m*\u001B[39m\u001B[38;5;241m*\u001B[39mkwargs, \u001B[38;5;124m\"\u001B[39m\u001B[38;5;124mmode\u001B[39m\u001B[38;5;124m\"\u001B[39m: \u001B[38;5;124m\"\u001B[39m\u001B[38;5;124mval\u001B[39m\u001B[38;5;124m\"\u001B[39m}  \u001B[38;5;66;03m# highest priority args on the right\u001B[39;00m\n\u001B[0;32m    634\u001B[0m validator \u001B[38;5;241m=\u001B[39m (validator \u001B[38;5;129;01mor\u001B[39;00m \u001B[38;5;28mself\u001B[39m\u001B[38;5;241m.\u001B[39m_smart_load(\u001B[38;5;124m\"\u001B[39m\u001B[38;5;124mvalidator\u001B[39m\u001B[38;5;124m\"\u001B[39m))(args\u001B[38;5;241m=\u001B[39margs, _callbacks\u001B[38;5;241m=\u001B[39m\u001B[38;5;28mself\u001B[39m\u001B[38;5;241m.\u001B[39mcallbacks)\n\u001B[1;32m--> 635\u001B[0m \u001B[43mvalidator\u001B[49m\u001B[43m(\u001B[49m\u001B[43mmodel\u001B[49m\u001B[38;5;241;43m=\u001B[39;49m\u001B[38;5;28;43mself\u001B[39;49m\u001B[38;5;241;43m.\u001B[39;49m\u001B[43mmodel\u001B[49m\u001B[43m)\u001B[49m\n\u001B[0;32m    636\u001B[0m \u001B[38;5;28mself\u001B[39m\u001B[38;5;241m.\u001B[39mmetrics \u001B[38;5;241m=\u001B[39m validator\u001B[38;5;241m.\u001B[39mmetrics\n\u001B[0;32m    637\u001B[0m \u001B[38;5;28;01mreturn\u001B[39;00m validator\u001B[38;5;241m.\u001B[39mmetrics\n",
      "File \u001B[1;32m~\\PycharmProjects\\yolo11\\.venv\\Lib\\site-packages\\torch\\utils\\_contextlib.py:116\u001B[0m, in \u001B[0;36mcontext_decorator.<locals>.decorate_context\u001B[1;34m(*args, **kwargs)\u001B[0m\n\u001B[0;32m    113\u001B[0m \u001B[38;5;129m@functools\u001B[39m\u001B[38;5;241m.\u001B[39mwraps(func)\n\u001B[0;32m    114\u001B[0m \u001B[38;5;28;01mdef\u001B[39;00m \u001B[38;5;21mdecorate_context\u001B[39m(\u001B[38;5;241m*\u001B[39margs, \u001B[38;5;241m*\u001B[39m\u001B[38;5;241m*\u001B[39mkwargs):\n\u001B[0;32m    115\u001B[0m     \u001B[38;5;28;01mwith\u001B[39;00m ctx_factory():\n\u001B[1;32m--> 116\u001B[0m         \u001B[38;5;28;01mreturn\u001B[39;00m \u001B[43mfunc\u001B[49m\u001B[43m(\u001B[49m\u001B[38;5;241;43m*\u001B[39;49m\u001B[43margs\u001B[49m\u001B[43m,\u001B[49m\u001B[43m \u001B[49m\u001B[38;5;241;43m*\u001B[39;49m\u001B[38;5;241;43m*\u001B[39;49m\u001B[43mkwargs\u001B[49m\u001B[43m)\u001B[49m\n",
      "File \u001B[1;32m~\\PycharmProjects\\yolo11\\.venv\\Lib\\site-packages\\ultralytics\\engine\\validator.py:144\u001B[0m, in \u001B[0;36mBaseValidator.__call__\u001B[1;34m(self, trainer, model)\u001B[0m\n\u001B[0;32m    141\u001B[0m     LOGGER\u001B[38;5;241m.\u001B[39minfo(\u001B[38;5;124mf\u001B[39m\u001B[38;5;124m\"\u001B[39m\u001B[38;5;124mSetting batch=\u001B[39m\u001B[38;5;132;01m{\u001B[39;00m\u001B[38;5;28mself\u001B[39m\u001B[38;5;241m.\u001B[39margs\u001B[38;5;241m.\u001B[39mbatch\u001B[38;5;132;01m}\u001B[39;00m\u001B[38;5;124m input of shape (\u001B[39m\u001B[38;5;132;01m{\u001B[39;00m\u001B[38;5;28mself\u001B[39m\u001B[38;5;241m.\u001B[39margs\u001B[38;5;241m.\u001B[39mbatch\u001B[38;5;132;01m}\u001B[39;00m\u001B[38;5;124m, 3, \u001B[39m\u001B[38;5;132;01m{\u001B[39;00mimgsz\u001B[38;5;132;01m}\u001B[39;00m\u001B[38;5;124m, \u001B[39m\u001B[38;5;132;01m{\u001B[39;00mimgsz\u001B[38;5;132;01m}\u001B[39;00m\u001B[38;5;124m)\u001B[39m\u001B[38;5;124m\"\u001B[39m)\n\u001B[0;32m    143\u001B[0m \u001B[38;5;28;01mif\u001B[39;00m \u001B[38;5;28mstr\u001B[39m(\u001B[38;5;28mself\u001B[39m\u001B[38;5;241m.\u001B[39margs\u001B[38;5;241m.\u001B[39mdata)\u001B[38;5;241m.\u001B[39msplit(\u001B[38;5;124m\"\u001B[39m\u001B[38;5;124m.\u001B[39m\u001B[38;5;124m\"\u001B[39m)[\u001B[38;5;241m-\u001B[39m\u001B[38;5;241m1\u001B[39m] \u001B[38;5;129;01min\u001B[39;00m {\u001B[38;5;124m\"\u001B[39m\u001B[38;5;124myaml\u001B[39m\u001B[38;5;124m\"\u001B[39m, \u001B[38;5;124m\"\u001B[39m\u001B[38;5;124myml\u001B[39m\u001B[38;5;124m\"\u001B[39m}:\n\u001B[1;32m--> 144\u001B[0m     \u001B[38;5;28mself\u001B[39m\u001B[38;5;241m.\u001B[39mdata \u001B[38;5;241m=\u001B[39m \u001B[43mcheck_det_dataset\u001B[49m\u001B[43m(\u001B[49m\u001B[38;5;28;43mself\u001B[39;49m\u001B[38;5;241;43m.\u001B[39;49m\u001B[43margs\u001B[49m\u001B[38;5;241;43m.\u001B[39;49m\u001B[43mdata\u001B[49m\u001B[43m)\u001B[49m\n\u001B[0;32m    145\u001B[0m \u001B[38;5;28;01melif\u001B[39;00m \u001B[38;5;28mself\u001B[39m\u001B[38;5;241m.\u001B[39margs\u001B[38;5;241m.\u001B[39mtask \u001B[38;5;241m==\u001B[39m \u001B[38;5;124m\"\u001B[39m\u001B[38;5;124mclassify\u001B[39m\u001B[38;5;124m\"\u001B[39m:\n\u001B[0;32m    146\u001B[0m     \u001B[38;5;28mself\u001B[39m\u001B[38;5;241m.\u001B[39mdata \u001B[38;5;241m=\u001B[39m check_cls_dataset(\u001B[38;5;28mself\u001B[39m\u001B[38;5;241m.\u001B[39margs\u001B[38;5;241m.\u001B[39mdata, split\u001B[38;5;241m=\u001B[39m\u001B[38;5;28mself\u001B[39m\u001B[38;5;241m.\u001B[39margs\u001B[38;5;241m.\u001B[39msplit)\n",
      "File \u001B[1;32m~\\PycharmProjects\\yolo11\\.venv\\Lib\\site-packages\\ultralytics\\data\\utils.py:269\u001B[0m, in \u001B[0;36mcheck_det_dataset\u001B[1;34m(dataset, autodownload)\u001B[0m\n\u001B[0;32m    254\u001B[0m \u001B[38;5;28;01mdef\u001B[39;00m \u001B[38;5;21mcheck_det_dataset\u001B[39m(dataset, autodownload\u001B[38;5;241m=\u001B[39m\u001B[38;5;28;01mTrue\u001B[39;00m):\n\u001B[0;32m    255\u001B[0m \u001B[38;5;250m    \u001B[39m\u001B[38;5;124;03m\"\"\"\u001B[39;00m\n\u001B[0;32m    256\u001B[0m \u001B[38;5;124;03m    Download, verify, and/or unzip a dataset if not found locally.\u001B[39;00m\n\u001B[0;32m    257\u001B[0m \n\u001B[1;32m   (...)\u001B[0m\n\u001B[0;32m    267\u001B[0m \u001B[38;5;124;03m        (dict): Parsed dataset information and paths.\u001B[39;00m\n\u001B[0;32m    268\u001B[0m \u001B[38;5;124;03m    \"\"\"\u001B[39;00m\n\u001B[1;32m--> 269\u001B[0m     file \u001B[38;5;241m=\u001B[39m \u001B[43mcheck_file\u001B[49m\u001B[43m(\u001B[49m\u001B[43mdataset\u001B[49m\u001B[43m)\u001B[49m\n\u001B[0;32m    271\u001B[0m     \u001B[38;5;66;03m# Download (optional)\u001B[39;00m\n\u001B[0;32m    272\u001B[0m     extract_dir \u001B[38;5;241m=\u001B[39m \u001B[38;5;124m\"\u001B[39m\u001B[38;5;124m\"\u001B[39m\n",
      "File \u001B[1;32m~\\PycharmProjects\\yolo11\\.venv\\Lib\\site-packages\\ultralytics\\utils\\checks.py:521\u001B[0m, in \u001B[0;36mcheck_file\u001B[1;34m(file, suffix, download, download_dir, hard)\u001B[0m\n\u001B[0;32m    519\u001B[0m files \u001B[38;5;241m=\u001B[39m glob\u001B[38;5;241m.\u001B[39mglob(\u001B[38;5;28mstr\u001B[39m(ROOT \u001B[38;5;241m/\u001B[39m \u001B[38;5;124m\"\u001B[39m\u001B[38;5;124m**\u001B[39m\u001B[38;5;124m\"\u001B[39m \u001B[38;5;241m/\u001B[39m file), recursive\u001B[38;5;241m=\u001B[39m\u001B[38;5;28;01mTrue\u001B[39;00m) \u001B[38;5;129;01mor\u001B[39;00m glob\u001B[38;5;241m.\u001B[39mglob(\u001B[38;5;28mstr\u001B[39m(ROOT\u001B[38;5;241m.\u001B[39mparent \u001B[38;5;241m/\u001B[39m file))  \u001B[38;5;66;03m# find file\u001B[39;00m\n\u001B[0;32m    520\u001B[0m \u001B[38;5;28;01mif\u001B[39;00m \u001B[38;5;129;01mnot\u001B[39;00m files \u001B[38;5;129;01mand\u001B[39;00m hard:\n\u001B[1;32m--> 521\u001B[0m     \u001B[38;5;28;01mraise\u001B[39;00m \u001B[38;5;167;01mFileNotFoundError\u001B[39;00m(\u001B[38;5;124mf\u001B[39m\u001B[38;5;124m\"\u001B[39m\u001B[38;5;124m'\u001B[39m\u001B[38;5;132;01m{\u001B[39;00mfile\u001B[38;5;132;01m}\u001B[39;00m\u001B[38;5;124m'\u001B[39m\u001B[38;5;124m does not exist\u001B[39m\u001B[38;5;124m\"\u001B[39m)\n\u001B[0;32m    522\u001B[0m \u001B[38;5;28;01melif\u001B[39;00m \u001B[38;5;28mlen\u001B[39m(files) \u001B[38;5;241m>\u001B[39m \u001B[38;5;241m1\u001B[39m \u001B[38;5;129;01mand\u001B[39;00m hard:\n\u001B[0;32m    523\u001B[0m     \u001B[38;5;28;01mraise\u001B[39;00m \u001B[38;5;167;01mFileNotFoundError\u001B[39;00m(\u001B[38;5;124mf\u001B[39m\u001B[38;5;124m\"\u001B[39m\u001B[38;5;124mMultiple files match \u001B[39m\u001B[38;5;124m'\u001B[39m\u001B[38;5;132;01m{\u001B[39;00mfile\u001B[38;5;132;01m}\u001B[39;00m\u001B[38;5;124m'\u001B[39m\u001B[38;5;124m, specify exact path: \u001B[39m\u001B[38;5;132;01m{\u001B[39;00mfiles\u001B[38;5;132;01m}\u001B[39;00m\u001B[38;5;124m\"\u001B[39m)\n",
      "\u001B[1;31mFileNotFoundError\u001B[0m: '/usr/src/ultralytics/ultralytics/cfg/datasets/coco.yaml' does not exist"
     ]
    }
   ],
   "execution_count": 4
  },
  {
   "metadata": {
    "ExecuteTime": {
     "end_time": "2024-10-19T18:11:59.604682Z",
     "start_time": "2024-10-19T18:11:59.387952Z"
    }
   },
   "cell_type": "code",
   "source": [
    "results = model(r\"C:\\Users\\RoscoeKerby\\PycharmProjects\\yolo11\\.venv\\Lib\\val\\images\\20230706_102907.jpg\")  # predict on an image\n",
    "# Perform object detection on an image\n",
    "# results = model(\"path/to/image.jpg\")\n",
    "# results = model(r\"C:\\Users\\RoscoeKerby\\PycharmProjects\\yolo11\\.venv\\Lib\\val\\images\\20230706_123409.jpg\")  # predict on an image\n",
    "# 20230706_123409.jpg\n",
    "\n",
    "results = model(r\"C:\\Users\\RoscoeKerby\\PycharmProjects\\yolo11\\.venv\\Lib\\val\\images\\rob dogs.jpeg\")\n",
    "\n",
    "\n",
    "results[0].show()"
   ],
   "id": "f8da2761c8a0e3eb",
   "outputs": [
    {
     "ename": "NameError",
     "evalue": "name 'model' is not defined",
     "output_type": "error",
     "traceback": [
      "\u001B[1;31m---------------------------------------------------------------------------\u001B[0m",
      "\u001B[1;31mNameError\u001B[0m                                 Traceback (most recent call last)",
      "Cell \u001B[1;32mIn[1], line 1\u001B[0m\n\u001B[1;32m----> 1\u001B[0m results \u001B[38;5;241m=\u001B[39m \u001B[43mmodel\u001B[49m(\u001B[38;5;124mr\u001B[39m\u001B[38;5;124m\"\u001B[39m\u001B[38;5;124mC:\u001B[39m\u001B[38;5;124m\\\u001B[39m\u001B[38;5;124mUsers\u001B[39m\u001B[38;5;124m\\\u001B[39m\u001B[38;5;124mRoscoeKerby\u001B[39m\u001B[38;5;124m\\\u001B[39m\u001B[38;5;124mPycharmProjects\u001B[39m\u001B[38;5;124m\\\u001B[39m\u001B[38;5;124myolo11\u001B[39m\u001B[38;5;124m\\\u001B[39m\u001B[38;5;124m.venv\u001B[39m\u001B[38;5;124m\\\u001B[39m\u001B[38;5;124mLib\u001B[39m\u001B[38;5;124m\\\u001B[39m\u001B[38;5;124mval\u001B[39m\u001B[38;5;124m\\\u001B[39m\u001B[38;5;124mimages\u001B[39m\u001B[38;5;124m\\\u001B[39m\u001B[38;5;124m20230706_102907.jpg\u001B[39m\u001B[38;5;124m\"\u001B[39m)  \u001B[38;5;66;03m# predict on an image\u001B[39;00m\n\u001B[0;32m      2\u001B[0m \u001B[38;5;66;03m# Perform object detection on an image\u001B[39;00m\n\u001B[0;32m      3\u001B[0m \u001B[38;5;66;03m# results = model(\"path/to/image.jpg\")\u001B[39;00m\n\u001B[0;32m      4\u001B[0m \u001B[38;5;66;03m# results = model(r\"C:\\Users\\RoscoeKerby\\PycharmProjects\\yolo11\\.venv\\Lib\\val\\images\\20230706_123409.jpg\")  # predict on an image\u001B[39;00m\n\u001B[0;32m      5\u001B[0m \u001B[38;5;66;03m# 20230706_123409.jpg\u001B[39;00m\n\u001B[0;32m      7\u001B[0m results \u001B[38;5;241m=\u001B[39m model(\u001B[38;5;124mr\u001B[39m\u001B[38;5;124m\"\u001B[39m\u001B[38;5;124mC:\u001B[39m\u001B[38;5;124m\\\u001B[39m\u001B[38;5;124mUsers\u001B[39m\u001B[38;5;124m\\\u001B[39m\u001B[38;5;124mRoscoeKerby\u001B[39m\u001B[38;5;124m\\\u001B[39m\u001B[38;5;124mPycharmProjects\u001B[39m\u001B[38;5;124m\\\u001B[39m\u001B[38;5;124myolo11\u001B[39m\u001B[38;5;124m\\\u001B[39m\u001B[38;5;124m.venv\u001B[39m\u001B[38;5;124m\\\u001B[39m\u001B[38;5;124mLib\u001B[39m\u001B[38;5;124m\\\u001B[39m\u001B[38;5;124mval\u001B[39m\u001B[38;5;124m\\\u001B[39m\u001B[38;5;124mimages\u001B[39m\u001B[38;5;124m\\\u001B[39m\u001B[38;5;124mrob dogs.jpeg\u001B[39m\u001B[38;5;124m\"\u001B[39m)\n",
      "\u001B[1;31mNameError\u001B[0m: name 'model' is not defined"
     ]
    }
   ],
   "execution_count": 1
  },
  {
   "metadata": {
    "ExecuteTime": {
     "end_time": "2024-10-19T18:24:49.441130Z",
     "start_time": "2024-10-19T18:24:48.715926Z"
    }
   },
   "cell_type": "code",
   "source": [
    "from ultralytics import YOLO\n",
    "\n",
    "model = YOLO(r\"C:\\Users\\RoscoeKerby\\PycharmProjects\\yolo11\\.venv\\runs\\detect\\train2\\weights\\best.pt\")  # load a pretrained model (recommended for training)\n",
    "\n",
    "results = model(r\"C:\\Users\\RoscoeKerby\\PycharmProjects\\yolo11\\.venv\\Lib\\val\\images\\rob dogs.jpeg\")\n",
    "\n",
    "results = model(\n",
    "    r\"C:\\Users\\RoscoeKerby\\PycharmProjects\\yolo11\\.venv\\Lib\\val\\images\\20230706_102907.jpg\")  # predict on an image\n",
    "# Perform object detection on an image\n",
    "# results = model(\"path/to/image.jpg\")\n",
    "# results = model(r\"C:\\Users\\RoscoeKerby\\PycharmProjects\\yolo11\\.venv\\Lib\\val\\images\\20230706_123409.jpg\")  # predict on an image\n",
    "# 20230706_123409.jpg\n",
    "\n",
    "results = model(r\"C:\\Users\\RoscoeKerby\\PycharmProjects\\yolo11\\.venv\\Lib\\val\\images\\rob dogs.jpeg\")\n",
    "\n",
    "results = model(r\"C:\\Users\\RoscoeKerby\\PycharmProjects\\yolo11\\.venv\\Lib\\BostonDogs\\20230706_102922.jpg\")\n",
    "\n",
    "results = model(r\"C:\\Users\\RoscoeKerby\\PycharmProjects\\yolo11\\.venv\\Lib\\val\\images\\rob dogs22.jpeg\")\n",
    "\n",
    "results[0].show()"
   ],
   "id": "2eb6d0c24c7c2d48",
   "outputs": [
    {
     "name": "stdout",
     "output_type": "stream",
     "text": [
      "\n",
      "image 1/1 C:\\Users\\RoscoeKerby\\PycharmProjects\\yolo11\\.venv\\Lib\\val\\images\\rob dogs.jpeg: 640x512 (no detections), 47.3ms\n",
      "Speed: 0.0ms preprocess, 47.3ms inference, 1.2ms postprocess per image at shape (1, 3, 640, 512)\n",
      "\n",
      "image 1/1 C:\\Users\\RoscoeKerby\\PycharmProjects\\yolo11\\.venv\\Lib\\val\\images\\20230706_102907.jpg: 640x384 1 dog_muzzle, 32.5ms\n",
      "Speed: 0.0ms preprocess, 32.5ms inference, 0.0ms postprocess per image at shape (1, 3, 640, 384)\n",
      "\n",
      "image 1/1 C:\\Users\\RoscoeKerby\\PycharmProjects\\yolo11\\.venv\\Lib\\val\\images\\rob dogs.jpeg: 640x512 (no detections), 31.6ms\n",
      "Speed: 4.6ms preprocess, 31.6ms inference, 0.0ms postprocess per image at shape (1, 3, 640, 512)\n",
      "\n",
      "image 1/1 C:\\Users\\RoscoeKerby\\PycharmProjects\\yolo11\\.venv\\Lib\\BostonDogs\\20230706_102922.jpg: 640x384 1 dog_muzzle, 33.5ms\n",
      "Speed: 0.0ms preprocess, 33.5ms inference, 0.0ms postprocess per image at shape (1, 3, 640, 384)\n",
      "\n",
      "image 1/1 C:\\Users\\RoscoeKerby\\PycharmProjects\\yolo11\\.venv\\Lib\\val\\images\\rob dogs22.jpeg: 480x640 1 dog_muzzle, 39.1ms\n",
      "Speed: 5.0ms preprocess, 39.1ms inference, 0.0ms postprocess per image at shape (1, 3, 480, 640)\n"
     ]
    }
   ],
   "execution_count": 10
  },
  {
   "metadata": {
    "ExecuteTime": {
     "end_time": "2024-10-17T12:10:18.578799Z",
     "start_time": "2024-10-17T12:10:18.573494Z"
    }
   },
   "cell_type": "code",
   "source": [
    "import os\n",
    "\n",
    "file_path = \"custom_data.yaml\"  # or provide the absolute path if needed\n",
    "\n",
    "print( os.path.exists(file_path))\n",
    "# Check if file exists and is readable\n",
    "if os.path.exists(file_path) and os.access(file_path, os.R_OK):\n",
    "    print(f\"File '{file_path}' exists and is readable.\")\n",
    "else:\n",
    "    print(f\"File '{file_path}' does not exist or is not readable.\")\n"
   ],
   "id": "ca53deb6ab7c4917",
   "outputs": [
    {
     "name": "stdout",
     "output_type": "stream",
     "text": [
      "True\n",
      "File 'custom_data.yaml' exists and is readable.\n"
     ]
    }
   ],
   "execution_count": 30
  },
  {
   "metadata": {
    "ExecuteTime": {
     "end_time": "2024-10-17T13:51:47.521663Z",
     "start_time": "2024-10-17T13:51:47.517615Z"
    }
   },
   "cell_type": "code",
   "source": [
    "import os\n",
    "print(\"Current working directory:\", os.getcwd())"
   ],
   "id": "960c60e8b0e8133d",
   "outputs": [
    {
     "name": "stdout",
     "output_type": "stream",
     "text": [
      "Current working directory: C:\\Users\\RoscoeKerby\\PycharmProjects\\yolo11\\.venv\\Lib\n"
     ]
    }
   ],
   "execution_count": 6
  },
  {
   "metadata": {
    "ExecuteTime": {
     "end_time": "2024-10-17T13:51:54.303953Z",
     "start_time": "2024-10-17T13:51:54.296276Z"
    }
   },
   "cell_type": "code",
   "source": "%cd ..",
   "id": "95d637a3eea1b792",
   "outputs": [
    {
     "name": "stdout",
     "output_type": "stream",
     "text": [
      "C:\\Users\\RoscoeKerby\\PycharmProjects\\yolo11\\.venv\n"
     ]
    },
    {
     "name": "stderr",
     "output_type": "stream",
     "text": [
      "C:\\Users\\RoscoeKerby\\PycharmProjects\\yolo11\\.venv\\Lib\\site-packages\\IPython\\core\\magics\\osm.py:417: UserWarning: This is now an optional IPython functionality, setting dhist requires you to install the `pickleshare` library.\n",
      "  self.shell.db['dhist'] = compress_dhist(dhist)[-100:]\n"
     ]
    }
   ],
   "execution_count": 7
  },
  {
   "metadata": {},
   "cell_type": "code",
   "outputs": [],
   "execution_count": null,
   "source": "",
   "id": "1b07e37eafcd0f07"
  }
 ],
 "metadata": {
  "kernelspec": {
   "display_name": "Python 3",
   "language": "python",
   "name": "python3"
  },
  "language_info": {
   "codemirror_mode": {
    "name": "ipython",
    "version": 2
   },
   "file_extension": ".py",
   "mimetype": "text/x-python",
   "name": "python",
   "nbconvert_exporter": "python",
   "pygments_lexer": "ipython2",
   "version": "2.7.6"
  }
 },
 "nbformat": 4,
 "nbformat_minor": 5
}
