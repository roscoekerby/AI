{
  "nbformat": 4,
  "nbformat_minor": 5,
  "metadata": {
    "kernelspec": {
      "display_name": "Python 3 (ipykernel)",
      "language": "python",
      "name": "python3"
    },
    "language_info": {
      "codemirror_mode": {
        "name": "ipython",
        "version": 3
      },
      "file_extension": ".py",
      "mimetype": "text/x-python",
      "name": "python",
      "nbconvert_exporter": "python",
      "pygments_lexer": "ipython3",
      "version": "3.8.10"
    },
    "colab": {
      "name": "Single Hyperparameter tuning of neural-network-sarcasm-detection-scikit.ipynb",
      "provenance": [],
      "collapsed_sections": []
    }
  },
  "cells": [
    {
      "cell_type": "markdown",
      "metadata": {
        "id": "5b3eb13d"
      },
      "source": [
        "# Preamble"
      ],
      "id": "5b3eb13d"
    },
    {
      "cell_type": "code",
      "metadata": {
        "id": "a70e48f9"
      },
      "source": [
        "import pandas as pd\n",
        "import seaborn as sns\n",
        "import matplotlib.pyplot as plt\n",
        "import numpy as np\n",
        "from sklearn.ensemble import RandomForestClassifier\n",
        "from sklearn.svm import SVC\n",
        "from sklearn import svm\n",
        "from sklearn.neural_network import MLPClassifier\n",
        "from sklearn.metrics import confusion_matrix, classification_report, accuracy_score\n",
        "from sklearn.preprocessing import StandardScaler, LabelEncoder\n",
        "from sklearn.model_selection import train_test_split\n",
        "from sklearn.feature_extraction.text import CountVectorizer\n",
        "from sklearn.tree import DecisionTreeClassifier\n",
        "import re\n",
        "import nltk\n",
        "import warnings\n",
        "from sklearn.exceptions import ConvergenceWarning\n",
        "stemmer = nltk.SnowballStemmer(\"english\")\n",
        "from nltk.corpus import stopwords\n",
        "import string\n",
        "%matplotlib inline"
      ],
      "id": "a70e48f9",
      "execution_count": 2,
      "outputs": []
    },
    {
      "cell_type": "code",
      "metadata": {
        "id": "167be691"
      },
      "source": [
        "sarcasm = pd.read_json('/content/drive/MyDrive/Colab Notebooks/Sarcasm_Headlines_Dataset.json', lines=True)\n",
        "sarcasm2 = pd.read_json('/content/drive/MyDrive/Colab Notebooks/Sarcasm_Headlines_Dataset_v2.json', lines=True)"
      ],
      "id": "167be691",
      "execution_count": 3,
      "outputs": []
    },
    {
      "cell_type": "code",
      "metadata": {
        "colab": {
          "base_uri": "https://localhost:8080/"
        },
        "id": "baO_YhQc50GW",
        "outputId": "af085840-9ccd-4f29-d88c-0cb9835b4c79"
      },
      "source": [
        "from google.colab import drive\n",
        "drive.mount('/content/drive')"
      ],
      "id": "baO_YhQc50GW",
      "execution_count": 4,
      "outputs": [
        {
          "output_type": "stream",
          "name": "stdout",
          "text": [
            "Drive already mounted at /content/drive; to attempt to forcibly remount, call drive.mount(\"/content/drive\", force_remount=True).\n"
          ]
        }
      ]
    },
    {
      "cell_type": "code",
      "metadata": {
        "id": "57bd585f",
        "colab": {
          "base_uri": "https://localhost:8080/",
          "height": 204
        },
        "outputId": "f2131f1b-b641-4376-8312-287b65430284"
      },
      "source": [
        "sarcasm.head()"
      ],
      "id": "57bd585f",
      "execution_count": 5,
      "outputs": [
        {
          "output_type": "execute_result",
          "data": {
            "text/html": [
              "<div>\n",
              "<style scoped>\n",
              "    .dataframe tbody tr th:only-of-type {\n",
              "        vertical-align: middle;\n",
              "    }\n",
              "\n",
              "    .dataframe tbody tr th {\n",
              "        vertical-align: top;\n",
              "    }\n",
              "\n",
              "    .dataframe thead th {\n",
              "        text-align: right;\n",
              "    }\n",
              "</style>\n",
              "<table border=\"1\" class=\"dataframe\">\n",
              "  <thead>\n",
              "    <tr style=\"text-align: right;\">\n",
              "      <th></th>\n",
              "      <th>article_link</th>\n",
              "      <th>headline</th>\n",
              "      <th>is_sarcastic</th>\n",
              "    </tr>\n",
              "  </thead>\n",
              "  <tbody>\n",
              "    <tr>\n",
              "      <th>0</th>\n",
              "      <td>https://www.huffingtonpost.com/entry/versace-b...</td>\n",
              "      <td>former versace store clerk sues over secret 'b...</td>\n",
              "      <td>0</td>\n",
              "    </tr>\n",
              "    <tr>\n",
              "      <th>1</th>\n",
              "      <td>https://www.huffingtonpost.com/entry/roseanne-...</td>\n",
              "      <td>the 'roseanne' revival catches up to our thorn...</td>\n",
              "      <td>0</td>\n",
              "    </tr>\n",
              "    <tr>\n",
              "      <th>2</th>\n",
              "      <td>https://local.theonion.com/mom-starting-to-fea...</td>\n",
              "      <td>mom starting to fear son's web series closest ...</td>\n",
              "      <td>1</td>\n",
              "    </tr>\n",
              "    <tr>\n",
              "      <th>3</th>\n",
              "      <td>https://politics.theonion.com/boehner-just-wan...</td>\n",
              "      <td>boehner just wants wife to listen, not come up...</td>\n",
              "      <td>1</td>\n",
              "    </tr>\n",
              "    <tr>\n",
              "      <th>4</th>\n",
              "      <td>https://www.huffingtonpost.com/entry/jk-rowlin...</td>\n",
              "      <td>j.k. rowling wishes snape happy birthday in th...</td>\n",
              "      <td>0</td>\n",
              "    </tr>\n",
              "  </tbody>\n",
              "</table>\n",
              "</div>"
            ],
            "text/plain": [
              "                                        article_link  ... is_sarcastic\n",
              "0  https://www.huffingtonpost.com/entry/versace-b...  ...            0\n",
              "1  https://www.huffingtonpost.com/entry/roseanne-...  ...            0\n",
              "2  https://local.theonion.com/mom-starting-to-fea...  ...            1\n",
              "3  https://politics.theonion.com/boehner-just-wan...  ...            1\n",
              "4  https://www.huffingtonpost.com/entry/jk-rowlin...  ...            0\n",
              "\n",
              "[5 rows x 3 columns]"
            ]
          },
          "metadata": {},
          "execution_count": 5
        }
      ]
    },
    {
      "cell_type": "code",
      "metadata": {
        "colab": {
          "base_uri": "https://localhost:8080/",
          "height": 204
        },
        "id": "sJFNkLUDpWUK",
        "outputId": "08e77e7b-5ab9-4cda-840a-2dca3939929a"
      },
      "source": [
        "sarcasm2.head()"
      ],
      "id": "sJFNkLUDpWUK",
      "execution_count": 6,
      "outputs": [
        {
          "output_type": "execute_result",
          "data": {
            "text/html": [
              "<div>\n",
              "<style scoped>\n",
              "    .dataframe tbody tr th:only-of-type {\n",
              "        vertical-align: middle;\n",
              "    }\n",
              "\n",
              "    .dataframe tbody tr th {\n",
              "        vertical-align: top;\n",
              "    }\n",
              "\n",
              "    .dataframe thead th {\n",
              "        text-align: right;\n",
              "    }\n",
              "</style>\n",
              "<table border=\"1\" class=\"dataframe\">\n",
              "  <thead>\n",
              "    <tr style=\"text-align: right;\">\n",
              "      <th></th>\n",
              "      <th>is_sarcastic</th>\n",
              "      <th>headline</th>\n",
              "      <th>article_link</th>\n",
              "    </tr>\n",
              "  </thead>\n",
              "  <tbody>\n",
              "    <tr>\n",
              "      <th>0</th>\n",
              "      <td>1</td>\n",
              "      <td>thirtysomething scientists unveil doomsday clo...</td>\n",
              "      <td>https://www.theonion.com/thirtysomething-scien...</td>\n",
              "    </tr>\n",
              "    <tr>\n",
              "      <th>1</th>\n",
              "      <td>0</td>\n",
              "      <td>dem rep. totally nails why congress is falling...</td>\n",
              "      <td>https://www.huffingtonpost.com/entry/donna-edw...</td>\n",
              "    </tr>\n",
              "    <tr>\n",
              "      <th>2</th>\n",
              "      <td>0</td>\n",
              "      <td>eat your veggies: 9 deliciously different recipes</td>\n",
              "      <td>https://www.huffingtonpost.com/entry/eat-your-...</td>\n",
              "    </tr>\n",
              "    <tr>\n",
              "      <th>3</th>\n",
              "      <td>1</td>\n",
              "      <td>inclement weather prevents liar from getting t...</td>\n",
              "      <td>https://local.theonion.com/inclement-weather-p...</td>\n",
              "    </tr>\n",
              "    <tr>\n",
              "      <th>4</th>\n",
              "      <td>1</td>\n",
              "      <td>mother comes pretty close to using word 'strea...</td>\n",
              "      <td>https://www.theonion.com/mother-comes-pretty-c...</td>\n",
              "    </tr>\n",
              "  </tbody>\n",
              "</table>\n",
              "</div>"
            ],
            "text/plain": [
              "   is_sarcastic  ...                                       article_link\n",
              "0             1  ...  https://www.theonion.com/thirtysomething-scien...\n",
              "1             0  ...  https://www.huffingtonpost.com/entry/donna-edw...\n",
              "2             0  ...  https://www.huffingtonpost.com/entry/eat-your-...\n",
              "3             1  ...  https://local.theonion.com/inclement-weather-p...\n",
              "4             1  ...  https://www.theonion.com/mother-comes-pretty-c...\n",
              "\n",
              "[5 rows x 3 columns]"
            ]
          },
          "metadata": {},
          "execution_count": 6
        }
      ]
    },
    {
      "cell_type": "code",
      "metadata": {
        "id": "debd1d27",
        "colab": {
          "base_uri": "https://localhost:8080/"
        },
        "outputId": "a89c4617-441f-4d89-aaf1-e39f9f9c9059"
      },
      "source": [
        "sarcasm.info()"
      ],
      "id": "debd1d27",
      "execution_count": 7,
      "outputs": [
        {
          "output_type": "stream",
          "name": "stdout",
          "text": [
            "<class 'pandas.core.frame.DataFrame'>\n",
            "RangeIndex: 26709 entries, 0 to 26708\n",
            "Data columns (total 3 columns):\n",
            " #   Column        Non-Null Count  Dtype \n",
            "---  ------        --------------  ----- \n",
            " 0   article_link  26709 non-null  object\n",
            " 1   headline      26709 non-null  object\n",
            " 2   is_sarcastic  26709 non-null  int64 \n",
            "dtypes: int64(1), object(2)\n",
            "memory usage: 626.1+ KB\n"
          ]
        }
      ]
    },
    {
      "cell_type": "markdown",
      "metadata": {
        "id": "3074f3ce"
      },
      "source": [
        "# Data Normalisation"
      ],
      "id": "3074f3ce"
    },
    {
      "cell_type": "code",
      "metadata": {
        "id": "6a65c49a",
        "colab": {
          "base_uri": "https://localhost:8080/"
        },
        "outputId": "b871da78-68f0-495c-9911-37eb1aa1581f"
      },
      "source": [
        "print(sarcasm.isnull().sum())\n",
        "sarcasm2.isnull().sum()\n"
      ],
      "id": "6a65c49a",
      "execution_count": 8,
      "outputs": [
        {
          "output_type": "stream",
          "name": "stdout",
          "text": [
            "article_link    0\n",
            "headline        0\n",
            "is_sarcastic    0\n",
            "dtype: int64\n"
          ]
        },
        {
          "output_type": "execute_result",
          "data": {
            "text/plain": [
              "is_sarcastic    0\n",
              "headline        0\n",
              "article_link    0\n",
              "dtype: int64"
            ]
          },
          "metadata": {},
          "execution_count": 8
        }
      ]
    },
    {
      "cell_type": "code",
      "metadata": {
        "id": "6dc75151"
      },
      "source": [
        "sarcasm.drop('article_link', axis=1, inplace=True)\n",
        "sarcasm2.drop('article_link', axis=1, inplace=True)"
      ],
      "id": "6dc75151",
      "execution_count": 9,
      "outputs": []
    },
    {
      "cell_type": "code",
      "metadata": {
        "id": "34fd0292",
        "colab": {
          "base_uri": "https://localhost:8080/"
        },
        "outputId": "bebc3965-9bae-4121-b1dc-d022c55da73e"
      },
      "source": [
        "sarcasm.isnull().sum()"
      ],
      "id": "34fd0292",
      "execution_count": 10,
      "outputs": [
        {
          "output_type": "execute_result",
          "data": {
            "text/plain": [
              "headline        0\n",
              "is_sarcastic    0\n",
              "dtype: int64"
            ]
          },
          "metadata": {},
          "execution_count": 10
        }
      ]
    },
    {
      "cell_type": "code",
      "metadata": {
        "id": "5ef9f357",
        "colab": {
          "base_uri": "https://localhost:8080/",
          "height": 204
        },
        "outputId": "049f1d50-d000-45d2-a76a-61c05c1eaa92"
      },
      "source": [
        "sarcasm.head()"
      ],
      "id": "5ef9f357",
      "execution_count": 11,
      "outputs": [
        {
          "output_type": "execute_result",
          "data": {
            "text/html": [
              "<div>\n",
              "<style scoped>\n",
              "    .dataframe tbody tr th:only-of-type {\n",
              "        vertical-align: middle;\n",
              "    }\n",
              "\n",
              "    .dataframe tbody tr th {\n",
              "        vertical-align: top;\n",
              "    }\n",
              "\n",
              "    .dataframe thead th {\n",
              "        text-align: right;\n",
              "    }\n",
              "</style>\n",
              "<table border=\"1\" class=\"dataframe\">\n",
              "  <thead>\n",
              "    <tr style=\"text-align: right;\">\n",
              "      <th></th>\n",
              "      <th>headline</th>\n",
              "      <th>is_sarcastic</th>\n",
              "    </tr>\n",
              "  </thead>\n",
              "  <tbody>\n",
              "    <tr>\n",
              "      <th>0</th>\n",
              "      <td>former versace store clerk sues over secret 'b...</td>\n",
              "      <td>0</td>\n",
              "    </tr>\n",
              "    <tr>\n",
              "      <th>1</th>\n",
              "      <td>the 'roseanne' revival catches up to our thorn...</td>\n",
              "      <td>0</td>\n",
              "    </tr>\n",
              "    <tr>\n",
              "      <th>2</th>\n",
              "      <td>mom starting to fear son's web series closest ...</td>\n",
              "      <td>1</td>\n",
              "    </tr>\n",
              "    <tr>\n",
              "      <th>3</th>\n",
              "      <td>boehner just wants wife to listen, not come up...</td>\n",
              "      <td>1</td>\n",
              "    </tr>\n",
              "    <tr>\n",
              "      <th>4</th>\n",
              "      <td>j.k. rowling wishes snape happy birthday in th...</td>\n",
              "      <td>0</td>\n",
              "    </tr>\n",
              "  </tbody>\n",
              "</table>\n",
              "</div>"
            ],
            "text/plain": [
              "                                            headline  is_sarcastic\n",
              "0  former versace store clerk sues over secret 'b...             0\n",
              "1  the 'roseanne' revival catches up to our thorn...             0\n",
              "2  mom starting to fear son's web series closest ...             1\n",
              "3  boehner just wants wife to listen, not come up...             1\n",
              "4  j.k. rowling wishes snape happy birthday in th...             0"
            ]
          },
          "metadata": {},
          "execution_count": 11
        }
      ]
    },
    {
      "cell_type": "code",
      "metadata": {
        "colab": {
          "base_uri": "https://localhost:8080/",
          "height": 204
        },
        "id": "ebhIVSOap3gi",
        "outputId": "4adb0438-9499-41db-c800-4e7533ae1f27"
      },
      "source": [
        "sarcasm2.head()"
      ],
      "id": "ebhIVSOap3gi",
      "execution_count": 12,
      "outputs": [
        {
          "output_type": "execute_result",
          "data": {
            "text/html": [
              "<div>\n",
              "<style scoped>\n",
              "    .dataframe tbody tr th:only-of-type {\n",
              "        vertical-align: middle;\n",
              "    }\n",
              "\n",
              "    .dataframe tbody tr th {\n",
              "        vertical-align: top;\n",
              "    }\n",
              "\n",
              "    .dataframe thead th {\n",
              "        text-align: right;\n",
              "    }\n",
              "</style>\n",
              "<table border=\"1\" class=\"dataframe\">\n",
              "  <thead>\n",
              "    <tr style=\"text-align: right;\">\n",
              "      <th></th>\n",
              "      <th>is_sarcastic</th>\n",
              "      <th>headline</th>\n",
              "    </tr>\n",
              "  </thead>\n",
              "  <tbody>\n",
              "    <tr>\n",
              "      <th>0</th>\n",
              "      <td>1</td>\n",
              "      <td>thirtysomething scientists unveil doomsday clo...</td>\n",
              "    </tr>\n",
              "    <tr>\n",
              "      <th>1</th>\n",
              "      <td>0</td>\n",
              "      <td>dem rep. totally nails why congress is falling...</td>\n",
              "    </tr>\n",
              "    <tr>\n",
              "      <th>2</th>\n",
              "      <td>0</td>\n",
              "      <td>eat your veggies: 9 deliciously different recipes</td>\n",
              "    </tr>\n",
              "    <tr>\n",
              "      <th>3</th>\n",
              "      <td>1</td>\n",
              "      <td>inclement weather prevents liar from getting t...</td>\n",
              "    </tr>\n",
              "    <tr>\n",
              "      <th>4</th>\n",
              "      <td>1</td>\n",
              "      <td>mother comes pretty close to using word 'strea...</td>\n",
              "    </tr>\n",
              "  </tbody>\n",
              "</table>\n",
              "</div>"
            ],
            "text/plain": [
              "   is_sarcastic                                           headline\n",
              "0             1  thirtysomething scientists unveil doomsday clo...\n",
              "1             0  dem rep. totally nails why congress is falling...\n",
              "2             0  eat your veggies: 9 deliciously different recipes\n",
              "3             1  inclement weather prevents liar from getting t...\n",
              "4             1  mother comes pretty close to using word 'strea..."
            ]
          },
          "metadata": {},
          "execution_count": 12
        }
      ]
    },
    {
      "cell_type": "code",
      "metadata": {
        "id": "f2ee5814"
      },
      "source": [
        "label_quality = LabelEncoder()"
      ],
      "id": "f2ee5814",
      "execution_count": 13,
      "outputs": []
    },
    {
      "cell_type": "code",
      "metadata": {
        "id": "347dcd78"
      },
      "source": [
        "sarcasm['is_sarcastic'] = label_quality.fit_transform(sarcasm['is_sarcastic'])\n",
        "sarcasm2['is_sarcastic'] = label_quality.fit_transform(sarcasm2['is_sarcastic'])"
      ],
      "id": "347dcd78",
      "execution_count": 14,
      "outputs": []
    },
    {
      "cell_type": "code",
      "metadata": {
        "id": "587faa94",
        "colab": {
          "base_uri": "https://localhost:8080/",
          "height": 359
        },
        "outputId": "3617f198-29f6-47e0-eb12-77e6ae66ca92"
      },
      "source": [
        "sarcasm.head(10)"
      ],
      "id": "587faa94",
      "execution_count": 15,
      "outputs": [
        {
          "output_type": "execute_result",
          "data": {
            "text/html": [
              "<div>\n",
              "<style scoped>\n",
              "    .dataframe tbody tr th:only-of-type {\n",
              "        vertical-align: middle;\n",
              "    }\n",
              "\n",
              "    .dataframe tbody tr th {\n",
              "        vertical-align: top;\n",
              "    }\n",
              "\n",
              "    .dataframe thead th {\n",
              "        text-align: right;\n",
              "    }\n",
              "</style>\n",
              "<table border=\"1\" class=\"dataframe\">\n",
              "  <thead>\n",
              "    <tr style=\"text-align: right;\">\n",
              "      <th></th>\n",
              "      <th>headline</th>\n",
              "      <th>is_sarcastic</th>\n",
              "    </tr>\n",
              "  </thead>\n",
              "  <tbody>\n",
              "    <tr>\n",
              "      <th>0</th>\n",
              "      <td>former versace store clerk sues over secret 'b...</td>\n",
              "      <td>0</td>\n",
              "    </tr>\n",
              "    <tr>\n",
              "      <th>1</th>\n",
              "      <td>the 'roseanne' revival catches up to our thorn...</td>\n",
              "      <td>0</td>\n",
              "    </tr>\n",
              "    <tr>\n",
              "      <th>2</th>\n",
              "      <td>mom starting to fear son's web series closest ...</td>\n",
              "      <td>1</td>\n",
              "    </tr>\n",
              "    <tr>\n",
              "      <th>3</th>\n",
              "      <td>boehner just wants wife to listen, not come up...</td>\n",
              "      <td>1</td>\n",
              "    </tr>\n",
              "    <tr>\n",
              "      <th>4</th>\n",
              "      <td>j.k. rowling wishes snape happy birthday in th...</td>\n",
              "      <td>0</td>\n",
              "    </tr>\n",
              "    <tr>\n",
              "      <th>5</th>\n",
              "      <td>advancing the world's women</td>\n",
              "      <td>0</td>\n",
              "    </tr>\n",
              "    <tr>\n",
              "      <th>6</th>\n",
              "      <td>the fascinating case for eating lab-grown meat</td>\n",
              "      <td>0</td>\n",
              "    </tr>\n",
              "    <tr>\n",
              "      <th>7</th>\n",
              "      <td>this ceo will send your kids to school, if you...</td>\n",
              "      <td>0</td>\n",
              "    </tr>\n",
              "    <tr>\n",
              "      <th>8</th>\n",
              "      <td>top snake handler leaves sinking huckabee camp...</td>\n",
              "      <td>1</td>\n",
              "    </tr>\n",
              "    <tr>\n",
              "      <th>9</th>\n",
              "      <td>friday's morning email: inside trump's presser...</td>\n",
              "      <td>0</td>\n",
              "    </tr>\n",
              "  </tbody>\n",
              "</table>\n",
              "</div>"
            ],
            "text/plain": [
              "                                            headline  is_sarcastic\n",
              "0  former versace store clerk sues over secret 'b...             0\n",
              "1  the 'roseanne' revival catches up to our thorn...             0\n",
              "2  mom starting to fear son's web series closest ...             1\n",
              "3  boehner just wants wife to listen, not come up...             1\n",
              "4  j.k. rowling wishes snape happy birthday in th...             0\n",
              "5                        advancing the world's women             0\n",
              "6     the fascinating case for eating lab-grown meat             0\n",
              "7  this ceo will send your kids to school, if you...             0\n",
              "8  top snake handler leaves sinking huckabee camp...             1\n",
              "9  friday's morning email: inside trump's presser...             0"
            ]
          },
          "metadata": {},
          "execution_count": 15
        }
      ]
    },
    {
      "cell_type": "code",
      "metadata": {
        "colab": {
          "base_uri": "https://localhost:8080/",
          "height": 204
        },
        "id": "LMzpWsWZp_jR",
        "outputId": "9e9c93c8-0acb-4fac-ae36-f35e13ca3600"
      },
      "source": [
        "sarcasm2.head()"
      ],
      "id": "LMzpWsWZp_jR",
      "execution_count": 16,
      "outputs": [
        {
          "output_type": "execute_result",
          "data": {
            "text/html": [
              "<div>\n",
              "<style scoped>\n",
              "    .dataframe tbody tr th:only-of-type {\n",
              "        vertical-align: middle;\n",
              "    }\n",
              "\n",
              "    .dataframe tbody tr th {\n",
              "        vertical-align: top;\n",
              "    }\n",
              "\n",
              "    .dataframe thead th {\n",
              "        text-align: right;\n",
              "    }\n",
              "</style>\n",
              "<table border=\"1\" class=\"dataframe\">\n",
              "  <thead>\n",
              "    <tr style=\"text-align: right;\">\n",
              "      <th></th>\n",
              "      <th>is_sarcastic</th>\n",
              "      <th>headline</th>\n",
              "    </tr>\n",
              "  </thead>\n",
              "  <tbody>\n",
              "    <tr>\n",
              "      <th>0</th>\n",
              "      <td>1</td>\n",
              "      <td>thirtysomething scientists unveil doomsday clo...</td>\n",
              "    </tr>\n",
              "    <tr>\n",
              "      <th>1</th>\n",
              "      <td>0</td>\n",
              "      <td>dem rep. totally nails why congress is falling...</td>\n",
              "    </tr>\n",
              "    <tr>\n",
              "      <th>2</th>\n",
              "      <td>0</td>\n",
              "      <td>eat your veggies: 9 deliciously different recipes</td>\n",
              "    </tr>\n",
              "    <tr>\n",
              "      <th>3</th>\n",
              "      <td>1</td>\n",
              "      <td>inclement weather prevents liar from getting t...</td>\n",
              "    </tr>\n",
              "    <tr>\n",
              "      <th>4</th>\n",
              "      <td>1</td>\n",
              "      <td>mother comes pretty close to using word 'strea...</td>\n",
              "    </tr>\n",
              "  </tbody>\n",
              "</table>\n",
              "</div>"
            ],
            "text/plain": [
              "   is_sarcastic                                           headline\n",
              "0             1  thirtysomething scientists unveil doomsday clo...\n",
              "1             0  dem rep. totally nails why congress is falling...\n",
              "2             0  eat your veggies: 9 deliciously different recipes\n",
              "3             1  inclement weather prevents liar from getting t...\n",
              "4             1  mother comes pretty close to using word 'strea..."
            ]
          },
          "metadata": {},
          "execution_count": 16
        }
      ]
    },
    {
      "cell_type": "code",
      "metadata": {
        "id": "cb99dec7",
        "colab": {
          "base_uri": "https://localhost:8080/"
        },
        "outputId": "305329d7-8e3d-4f33-a0ba-a342178ed1bd"
      },
      "source": [
        "print(sarcasm['is_sarcastic'].value_counts())\n",
        "sarcasm2['is_sarcastic'].value_counts()"
      ],
      "id": "cb99dec7",
      "execution_count": 17,
      "outputs": [
        {
          "output_type": "stream",
          "name": "stdout",
          "text": [
            "0    14985\n",
            "1    11724\n",
            "Name: is_sarcastic, dtype: int64\n"
          ]
        },
        {
          "output_type": "execute_result",
          "data": {
            "text/plain": [
              "0    14985\n",
              "1    13634\n",
              "Name: is_sarcastic, dtype: int64"
            ]
          },
          "metadata": {},
          "execution_count": 17
        }
      ]
    },
    {
      "cell_type": "code",
      "metadata": {
        "id": "32b683ba",
        "colab": {
          "base_uri": "https://localhost:8080/",
          "height": 385
        },
        "outputId": "b5f1b921-e3d2-4e79-abbc-2cba915adbd4"
      },
      "source": [
        "sns.countplot(sarcasm['is_sarcastic'])\n",
        "sns.countplot(sarcasm2['is_sarcastic'])"
      ],
      "id": "32b683ba",
      "execution_count": 18,
      "outputs": [
        {
          "output_type": "stream",
          "name": "stderr",
          "text": [
            "/usr/local/lib/python3.7/dist-packages/seaborn/_decorators.py:43: FutureWarning: Pass the following variable as a keyword arg: x. From version 0.12, the only valid positional argument will be `data`, and passing other arguments without an explicit keyword will result in an error or misinterpretation.\n",
            "  FutureWarning\n",
            "/usr/local/lib/python3.7/dist-packages/seaborn/_decorators.py:43: FutureWarning: Pass the following variable as a keyword arg: x. From version 0.12, the only valid positional argument will be `data`, and passing other arguments without an explicit keyword will result in an error or misinterpretation.\n",
            "  FutureWarning\n"
          ]
        },
        {
          "output_type": "execute_result",
          "data": {
            "text/plain": [
              "<matplotlib.axes._subplots.AxesSubplot at 0x7f2a09474610>"
            ]
          },
          "metadata": {},
          "execution_count": 18
        },
        {
          "output_type": "display_data",
          "data": {
            "image/png": "[encoded data removed]",
            "text/plain": [
              "<Figure size 432x288 with 1 Axes>"
            ]
          },
          "metadata": {
            "needs_background": "light"
          }
        }
      ]
    },
    {
      "cell_type": "code",
      "metadata": {
        "id": "f4e62dc8",
        "colab": {
          "base_uri": "https://localhost:8080/",
          "height": 340
        },
        "outputId": "ba4f9e96-bc83-4220-d1ba-25052b77fbd6"
      },
      "source": [
        "nltk.download('stopwords')\n",
        "stopword=set(stopwords.words('english'))\n",
        "\n",
        "def clean(text):\n",
        "    text = str(text).lower()\n",
        "    text = re.sub('\\[.*?\\]', '', text)\n",
        "    text = re.sub('https?://\\S+|www\\.\\S+', '', text)\n",
        "    text = re.sub('<.*?>+', '', text)\n",
        "    text = re.sub('[%s]' % re.escape(string.punctuation), '', text)\n",
        "    text = re.sub('\\n', '', text)\n",
        "    text = re.sub('\\w*\\d\\w*', '', text)\n",
        "    text = [word for word in text.split(' ') if word not in stopword]\n",
        "    text=\" \".join(text)\n",
        "    text = [stemmer.stem(word) for word in text.split(' ')]\n",
        "    text=\" \".join(text)\n",
        "    return text\n",
        "sarcasm[\"headline\"] = sarcasm[\"headline\"].apply(clean)\n",
        "sarcasm2[\"headline\"] = sarcasm2[\"headline\"].apply(clean)\n",
        "print(sarcasm.head())\n",
        "sarcasm2.head()"
      ],
      "id": "f4e62dc8",
      "execution_count": 19,
      "outputs": [
        {
          "output_type": "stream",
          "name": "stdout",
          "text": [
            "[nltk_data] Downloading package stopwords to /root/nltk_data...\n",
            "[nltk_data]   Unzipping corpora/stopwords.zip.\n",
            "                                            headline  is_sarcastic\n",
            "0  former versac store clerk sue secret black cod...             0\n",
            "1  roseann reviv catch thorni polit mood better wors             0\n",
            "2  mom start fear son web seri closest thing gran...             1\n",
            "3  boehner want wife listen come altern debtreduc...             1\n",
            "4        jk rowl wish snape happi birthday magic way             0\n"
          ]
        },
        {
          "output_type": "execute_result",
          "data": {
            "text/html": [
              "<div>\n",
              "<style scoped>\n",
              "    .dataframe tbody tr th:only-of-type {\n",
              "        vertical-align: middle;\n",
              "    }\n",
              "\n",
              "    .dataframe tbody tr th {\n",
              "        vertical-align: top;\n",
              "    }\n",
              "\n",
              "    .dataframe thead th {\n",
              "        text-align: right;\n",
              "    }\n",
              "</style>\n",
              "<table border=\"1\" class=\"dataframe\">\n",
              "  <thead>\n",
              "    <tr style=\"text-align: right;\">\n",
              "      <th></th>\n",
              "      <th>is_sarcastic</th>\n",
              "      <th>headline</th>\n",
              "    </tr>\n",
              "  </thead>\n",
              "  <tbody>\n",
              "    <tr>\n",
              "      <th>0</th>\n",
              "      <td>1</td>\n",
              "      <td>thirtysometh scientist unveil doomsday clock h...</td>\n",
              "    </tr>\n",
              "    <tr>\n",
              "      <th>1</th>\n",
              "      <td>0</td>\n",
              "      <td>dem rep total nail congress fall short gender ...</td>\n",
              "    </tr>\n",
              "    <tr>\n",
              "      <th>2</th>\n",
              "      <td>0</td>\n",
              "      <td>eat veggi  delici differ recip</td>\n",
              "    </tr>\n",
              "    <tr>\n",
              "      <th>3</th>\n",
              "      <td>1</td>\n",
              "      <td>inclement weather prevent liar get work</td>\n",
              "    </tr>\n",
              "    <tr>\n",
              "      <th>4</th>\n",
              "      <td>1</td>\n",
              "      <td>mother come pretti close use word stream correct</td>\n",
              "    </tr>\n",
              "  </tbody>\n",
              "</table>\n",
              "</div>"
            ],
            "text/plain": [
              "   is_sarcastic                                           headline\n",
              "0             1  thirtysometh scientist unveil doomsday clock h...\n",
              "1             0  dem rep total nail congress fall short gender ...\n",
              "2             0                     eat veggi  delici differ recip\n",
              "3             1            inclement weather prevent liar get work\n",
              "4             1   mother come pretti close use word stream correct"
            ]
          },
          "metadata": {},
          "execution_count": 19
        }
      ]
    },
    {
      "cell_type": "code",
      "metadata": {
        "id": "mlApO1nCgebX"
      },
      "source": [
        "# First dataset training\n",
        "data = sarcasm[[\"headline\", \"is_sarcastic\"]]\n",
        "x = np.array(data[\"headline\"])\n",
        "y = np.array(data[\"is_sarcastic\"])\n",
        "\n",
        "cv = CountVectorizer()\n",
        "X = cv.fit_transform(x) # Fit the Data\n",
        "# print(X.shape)\n",
        "# print(y.shape)\n",
        "X_train, X_test, y_train, y_test = train_test_split(X, y, test_size=0.20, random_state=42)\n",
        "\n",
        "\n",
        "# Second dataset training\n",
        "data2 = sarcasm2[[\"headline\", \"is_sarcastic\"]]\n",
        "x2 = np.array(data2[\"headline\"])\n",
        "y2 = np.array(data2[\"is_sarcastic\"])\n",
        "\n",
        "cv2 = CountVectorizer()\n",
        "X2 = cv2.fit_transform(x2) # Fit the Data\n",
        "\n",
        "# Dimensions need to match\n",
        "X2 = X2[:26709, :18833]\n",
        "y2 = y2[:26709]\n",
        "\n",
        "X_train2, X_test2, y_train2, y_test2 = train_test_split(X2, y2, test_size=0.20, random_state=42)"
      ],
      "id": "mlApO1nCgebX",
      "execution_count": 20,
      "outputs": []
    },
    {
      "cell_type": "markdown",
      "metadata": {
        "id": "9b44ab09"
      },
      "source": [
        "# Neural Network"
      ],
      "id": "9b44ab09"
    },
    {
      "cell_type": "code",
      "metadata": {
        "id": "u9aOVvxzSl_k",
        "colab": {
          "base_uri": "https://localhost:8080/"
        },
        "outputId": "1d17a307-e09e-41c1-e909-aa6b48aec16a"
      },
      "source": [
        "mlp = MLPClassifier(\n",
        "    hidden_layer_sizes=(50,),\n",
        "    max_iter=10,\n",
        "    alpha=1e-4,\n",
        "    solver=\"sgd\",\n",
        "    verbose=10,\n",
        "    random_state=1,\n",
        "    learning_rate_init=0.1,\n",
        ")\n",
        "import warnings\n",
        "from sklearn.exceptions import ConvergenceWarning\n",
        "\n",
        "# this example won't converge because of CI's time constraints, so we catch the\n",
        "# warning and are ignore it here\n",
        "with warnings.catch_warnings():\n",
        "    warnings.filterwarnings(\"ignore\", category=ConvergenceWarning, module=\"sklearn\")\n",
        "    mlp.fit(X_train, y_train)\n",
        "\n",
        "print(\"Training set score: %f\" % mlp.score(X_train, y_train))\n",
        "print(\"Test set score: %f\" % mlp.score(X_test, y_test))\n"
      ],
      "id": "u9aOVvxzSl_k",
      "execution_count": 21,
      "outputs": [
        {
          "output_type": "stream",
          "name": "stdout",
          "text": [
            "Iteration 1, loss = 0.61307582\n",
            "Iteration 2, loss = 0.46575738\n",
            "Iteration 3, loss = 0.38805390\n",
            "Iteration 4, loss = 0.33941708\n",
            "Iteration 5, loss = 0.30035308\n",
            "Iteration 6, loss = 0.26861403\n",
            "Iteration 7, loss = 0.24084950\n",
            "Iteration 8, loss = 0.21420804\n",
            "Iteration 9, loss = 0.19123366\n",
            "Iteration 10, loss = 0.17270608\n",
            "Training set score: 0.959096\n",
            "Test set score: 0.778173\n"
          ]
        }
      ]
    },
    {
      "cell_type": "code",
      "metadata": {
        "colab": {
          "base_uri": "https://localhost:8080/"
        },
        "id": "3HB9KgtaZ0v4",
        "outputId": "0481bf18-04af-4aff-e88c-7a242acbb3ec"
      },
      "source": [
        "mlp2 = MLPClassifier(\n",
        "        solver= \"sgd\",\n",
        "        learning_rate= \"constant\",\n",
        "        momentum= 0,\n",
        "        learning_rate_init= 0.2,\n",
        "        max_iter=10,\n",
        "        verbose=10,\n",
        ")\n",
        "import warnings\n",
        "from sklearn.exceptions import ConvergenceWarning\n",
        "\n",
        "# this example won't converge because of CI's time constraints, so we catch the\n",
        "# warning and are ignore it here\n",
        "with warnings.catch_warnings():\n",
        "    warnings.filterwarnings(\"ignore\", category=ConvergenceWarning, module=\"sklearn\")\n",
        "    mlp2.fit(X_train, y_train)\n",
        "\n",
        "    print(\"Training set score: %f\" % mlp2.score(X_train, y_train))\n",
        "    print(\"Test set score: %f\" % mlp2.score(X_test, y_test))"
      ],
      "id": "3HB9KgtaZ0v4",
      "execution_count": 22,
      "outputs": [
        {
          "output_type": "stream",
          "name": "stdout",
          "text": [
            "Iteration 1, loss = 0.66781048\n",
            "Iteration 2, loss = 0.61644453\n",
            "Iteration 3, loss = 0.56627905\n",
            "Iteration 4, loss = 0.52293403\n",
            "Iteration 5, loss = 0.48597127\n",
            "Iteration 6, loss = 0.45502225\n",
            "Iteration 7, loss = 0.42911493\n",
            "Iteration 8, loss = 0.40688965\n",
            "Iteration 9, loss = 0.38728915\n",
            "Iteration 10, loss = 0.37010346\n",
            "Training set score: 0.854308\n",
            "Test set score: 0.780232\n"
          ]
        }
      ]
    },
    {
      "cell_type": "code",
      "metadata": {
        "colab": {
          "base_uri": "https://localhost:8080/"
        },
        "id": "PDRBWdm5aRAN",
        "outputId": "c20e9f9c-8a18-4095-bc8f-487dcef66719"
      },
      "source": [
        "mlp3 = MLPClassifier(\n",
        "    solver= \"sgd\",\n",
        "        learning_rate= \"constant\",\n",
        "        momentum= 0.9,\n",
        "        learning_rate_init= 0.2,\n",
        "        max_iter=10,\n",
        "        nesterovs_momentum = False,\n",
        "        verbose=10,\n",
        ")\n",
        "import warnings\n",
        "from sklearn.exceptions import ConvergenceWarning\n",
        "\n",
        "# this example won't converge because of CI's time constraints, so we catch the\n",
        "# warning and are ignore it here\n",
        "with warnings.catch_warnings():\n",
        "    warnings.filterwarnings(\"ignore\", category=ConvergenceWarning, module=\"sklearn\")\n",
        "    mlp3.fit(X_train, y_train)\n",
        "\n",
        "    print(\"Training set score: %f\" % mlp3.score(X_train, y_train))\n",
        "    print(\"Test set score: %f\" % mlp3.score(X_test, y_test))"
      ],
      "id": "PDRBWdm5aRAN",
      "execution_count": 23,
      "outputs": [
        {
          "output_type": "stream",
          "name": "stdout",
          "text": [
            "Iteration 1, loss = 0.57880063\n",
            "Iteration 2, loss = 0.42525967\n",
            "Iteration 3, loss = 0.35048054\n",
            "Iteration 4, loss = 0.30453466\n",
            "Iteration 5, loss = 0.24875952\n",
            "Iteration 6, loss = 0.20535170\n",
            "Iteration 7, loss = 0.15402588\n",
            "Iteration 8, loss = 0.11685313\n",
            "Iteration 9, loss = 0.07853625\n",
            "Iteration 10, loss = 0.05423101\n",
            "Training set score: 0.996911\n",
            "Test set score: 0.784912\n"
          ]
        }
      ]
    },
    {
      "cell_type": "code",
      "metadata": {
        "colab": {
          "base_uri": "https://localhost:8080/"
        },
        "id": "gV0HbUYHaRDn",
        "outputId": "6d110ba8-7359-4f84-f760-7a41ee35294a"
      },
      "source": [
        "mlp4 = MLPClassifier(\n",
        "    solver= \"sgd\",\n",
        "        learning_rate= \"constant\",\n",
        "        momentum= 0.9,\n",
        "        learning_rate_init= 0.2,\n",
        "        max_iter=10,\n",
        "        nesterovs_momentum = True,\n",
        "        verbose=10,\n",
        ")\n",
        "import warnings\n",
        "from sklearn.exceptions import ConvergenceWarning\n",
        "\n",
        "# this example won't converge because of CI's time constraints, so we catch the\n",
        "# warning and are ignore it here\n",
        "with warnings.catch_warnings():\n",
        "    warnings.filterwarnings(\"ignore\", category=ConvergenceWarning, module=\"sklearn\")\n",
        "    mlp4.fit(X_train, y_train)\n",
        "\n",
        "print(\"Training set score: %f\" % mlp4.score(X_train, y_train))\n",
        "print(\"Test set score: %f\" % mlp4.score(X_test, y_test))"
      ],
      "id": "gV0HbUYHaRDn",
      "execution_count": 24,
      "outputs": [
        {
          "output_type": "stream",
          "name": "stdout",
          "text": [
            "Iteration 1, loss = 0.57557110\n",
            "Iteration 2, loss = 0.41989710\n",
            "Iteration 3, loss = 0.34751991\n",
            "Iteration 4, loss = 0.29236207\n",
            "Iteration 5, loss = 0.24217472\n",
            "Iteration 6, loss = 0.19859147\n",
            "Iteration 7, loss = 0.15224580\n",
            "Iteration 8, loss = 0.11232996\n",
            "Iteration 9, loss = 0.07817495\n",
            "Iteration 10, loss = 0.05278597\n",
            "Training set score: 0.996069\n",
            "Test set score: 0.783602\n"
          ]
        }
      ]
    },
    {
      "cell_type": "code",
      "metadata": {
        "colab": {
          "base_uri": "https://localhost:8080/"
        },
        "id": "9hjeKjP-aRGt",
        "outputId": "7833f9d4-d2d4-4ba7-859e-ca637289f479"
      },
      "source": [
        "mlp5 = MLPClassifier(\n",
        "   solver= \"sgd\",\n",
        "        learning_rate= \"invscaling\",\n",
        "        momentum= 0,\n",
        "        learning_rate_init= 0.2,\n",
        "        max_iter=10,\n",
        "        verbose=10,\n",
        ")\n",
        "import warnings\n",
        "from sklearn.exceptions import ConvergenceWarning\n",
        "\n",
        "# this example won't converge because of CI's time constraints, so we catch the\n",
        "# warning and are ignore it here\n",
        "with warnings.catch_warnings():\n",
        "    warnings.filterwarnings(\"ignore\", category=ConvergenceWarning, module=\"sklearn\")\n",
        "    mlp5.fit(X_train, y_train)\n",
        "\n",
        "    print(\"Training set score: %f\" % mlp5.score(X_train, y_train))\n",
        "    print(\"Test set score: %f\" % mlp5.score(X_test, y_test))"
      ],
      "id": "9hjeKjP-aRGt",
      "execution_count": 25,
      "outputs": [
        {
          "output_type": "stream",
          "name": "stdout",
          "text": [
            "Iteration 1, loss = 0.67239082\n",
            "Iteration 2, loss = 0.64828532\n",
            "Iteration 3, loss = 0.64798484\n",
            "Iteration 4, loss = 0.64776063\n",
            "Iteration 5, loss = 0.64757352\n",
            "Iteration 6, loss = 0.64740947\n",
            "Iteration 7, loss = 0.64726170\n",
            "Iteration 8, loss = 0.64712601\n",
            "Iteration 9, loss = 0.64699947\n",
            "Iteration 10, loss = 0.64688075\n",
            "Training set score: 0.616324\n",
            "Test set score: 0.613628\n"
          ]
        }
      ]
    },
    {
      "cell_type": "code",
      "metadata": {
        "colab": {
          "base_uri": "https://localhost:8080/"
        },
        "id": "4KVVAeO4aRKo",
        "outputId": "390f4ad1-1e18-4534-94db-2b019a47f329"
      },
      "source": [
        "mlp6 = MLPClassifier(\n",
        "    solver= \"sgd\",\n",
        "        learning_rate= \"invscaling\",\n",
        "        momentum= 0.9,\n",
        "        learning_rate_init= 0.2,\n",
        "        max_iter=10,\n",
        "        nesterovs_momentum = True,\n",
        "        verbose=10,\n",
        ")\n",
        "import warnings\n",
        "from sklearn.exceptions import ConvergenceWarning\n",
        "\n",
        "# this example won't converge because of CI's time constraints, so we catch the\n",
        "# warning and are ignore it here\n",
        "with warnings.catch_warnings():\n",
        "    warnings.filterwarnings(\"ignore\", category=ConvergenceWarning, module=\"sklearn\")\n",
        "    mlp6.fit(X_train, y_train)\n",
        "\n",
        "    print(\"Training set score: %f\" % mlp6.score(X_train, y_train))\n",
        "    print(\"Test set score: %f\" % mlp6.score(X_test, y_test))"
      ],
      "id": "4KVVAeO4aRKo",
      "execution_count": 26,
      "outputs": [
        {
          "output_type": "stream",
          "name": "stdout",
          "text": [
            "Iteration 1, loss = 0.57365816\n",
            "Iteration 2, loss = 0.42318281\n",
            "Iteration 3, loss = 0.41679718\n",
            "Iteration 4, loss = 0.41470521\n",
            "Iteration 5, loss = 0.41313633\n",
            "Iteration 6, loss = 0.41180045\n",
            "Iteration 7, loss = 0.41069519\n",
            "Iteration 8, loss = 0.40971842\n",
            "Iteration 9, loss = 0.40883574\n",
            "Iteration 10, loss = 0.40806304\n",
            "Training set score: 0.820658\n",
            "Test set score: 0.769562\n"
          ]
        }
      ]
    },
    {
      "cell_type": "code",
      "metadata": {
        "colab": {
          "base_uri": "https://localhost:8080/"
        },
        "id": "6Dpl6if4aRN4",
        "outputId": "549f458a-97ec-439f-f530-6733353f712e"
      },
      "source": [
        "mlp7 = MLPClassifier(\n",
        "    solver= \"sgd\",\n",
        "        learning_rate= \"invscaling\",\n",
        "        momentum= 0.9,\n",
        "        learning_rate_init= 0.2,\n",
        "        max_iter=10,\n",
        "        nesterovs_momentum = False,\n",
        "        verbose=10,\n",
        ")\n",
        "import warnings\n",
        "from sklearn.exceptions import ConvergenceWarning\n",
        "\n",
        "# this example won't converge because of CI's time constraints, so we catch the\n",
        "# warning and are ignore it here\n",
        "with warnings.catch_warnings():\n",
        "    warnings.filterwarnings(\"ignore\", category=ConvergenceWarning, module=\"sklearn\")\n",
        "    mlp7.fit(X_train, y_train)\n",
        "\n",
        "    print(\"Training set score: %f\" % mlp7.score(X_train, y_train))\n",
        "    print(\"Test set score: %f\" % mlp7.score(X_test, y_test))"
      ],
      "id": "6Dpl6if4aRN4",
      "execution_count": 27,
      "outputs": [
        {
          "output_type": "stream",
          "name": "stdout",
          "text": [
            "Iteration 1, loss = 0.57400767\n",
            "Iteration 2, loss = 0.70770957\n",
            "Iteration 3, loss = 0.41861621\n",
            "Iteration 4, loss = 0.41731758\n",
            "Iteration 5, loss = 0.41627886\n",
            "Iteration 6, loss = 0.41536039\n",
            "Iteration 7, loss = 0.41458350\n",
            "Iteration 8, loss = 0.41386921\n",
            "Iteration 9, loss = 0.41320182\n",
            "Iteration 10, loss = 0.41260660\n",
            "Training set score: 0.818037\n",
            "Test set score: 0.768626\n"
          ]
        }
      ]
    },
    {
      "cell_type": "code",
      "metadata": {
        "colab": {
          "base_uri": "https://localhost:8080/"
        },
        "id": "js34WM_BaRVP",
        "outputId": "e162d005-a600-47a3-b662-9a86e72125f3"
      },
      "source": [
        "mlp8 = MLPClassifier(\n",
        "   solver= \"adam\",\n",
        "        #learning_rate= \"constant\",\n",
        "        momentum= 0,\n",
        "        learning_rate_init= 0.01,\n",
        "        max_iter=10,\n",
        "        verbose=10,\n",
        ")\n",
        "import warnings\n",
        "from sklearn.exceptions import ConvergenceWarning\n",
        "\n",
        "# this example won't converge because of CI's time constraints, so we catch the\n",
        "# warning and are ignore it here\n",
        "with warnings.catch_warnings():\n",
        "    warnings.filterwarnings(\"ignore\", category=ConvergenceWarning, module=\"sklearn\")\n",
        "    mlp8.fit(X_train, y_train)\n",
        "\n",
        "    print(\"Training set score: %f\" % mlp8.score(X_train, y_train))\n",
        "    print(\"Test set score: %f\" % mlp8.score(X_test, y_test))"
      ],
      "id": "js34WM_BaRVP",
      "execution_count": 28,
      "outputs": [
        {
          "output_type": "stream",
          "name": "stdout",
          "text": [
            "Iteration 1, loss = 0.49914809\n",
            "Iteration 2, loss = 0.25521641\n",
            "Iteration 3, loss = 0.12237268\n",
            "Iteration 4, loss = 0.05057157\n",
            "Iteration 5, loss = 0.01979981\n",
            "Iteration 6, loss = 0.01110314\n",
            "Iteration 7, loss = 0.00825940\n",
            "Iteration 8, loss = 0.00783116\n",
            "Iteration 9, loss = 0.00645593\n",
            "Iteration 10, loss = 0.00596203\n",
            "Training set score: 0.999860\n",
            "Test set score: 0.783976\n"
          ]
        }
      ]
    },
    {
      "cell_type": "code",
      "metadata": {
        "colab": {
          "base_uri": "https://localhost:8080/"
        },
        "id": "WA_8JPUbf1Yw",
        "outputId": "6a61a767-c970-4c6f-ec87-3958654ec5b0"
      },
      "source": [
        "mlp9 = MLPClassifier(\n",
        "   solver= \"adam\",\n",
        "        #learning_rate= \"constant\",\n",
        "        #momentum= 0,\n",
        "        learning_rate_init= 0.01,\n",
        "        #max_iter=10,\n",
        "        verbose=True,\n",
        ")\n",
        "import warnings\n",
        "from sklearn.exceptions import ConvergenceWarning\n",
        "\n",
        "# this example won't converge because of CI's time constraints, so we catch the\n",
        "# warning and are ignore it here\n",
        "with warnings.catch_warnings():\n",
        "    warnings.filterwarnings(\"ignore\", category=ConvergenceWarning, module=\"sklearn\")\n",
        "    mlp9.fit(X_train, y_train)\n",
        "\n",
        "    print(\"Training set score: %f\" % mlp9.score(X_train, y_train))\n",
        "    print(\"Test set score: %f\" % mlp9.score(X_test, y_test))"
      ],
      "id": "WA_8JPUbf1Yw",
      "execution_count": 29,
      "outputs": [
        {
          "output_type": "stream",
          "name": "stdout",
          "text": [
            "Iteration 1, loss = 0.49745601\n",
            "Iteration 2, loss = 0.24335304\n",
            "Iteration 3, loss = 0.11693452\n",
            "Iteration 4, loss = 0.04511686\n",
            "Iteration 5, loss = 0.01691437\n",
            "Iteration 6, loss = 0.00974539\n",
            "Iteration 7, loss = 0.00759392\n",
            "Iteration 8, loss = 0.00645894\n",
            "Iteration 9, loss = 0.00586960\n",
            "Iteration 10, loss = 0.00543988\n",
            "Iteration 11, loss = 0.00509585\n",
            "Iteration 12, loss = 0.00480084\n",
            "Iteration 13, loss = 0.00452988\n",
            "Iteration 14, loss = 0.00429165\n",
            "Iteration 15, loss = 0.00407258\n",
            "Iteration 16, loss = 0.00387105\n",
            "Iteration 17, loss = 0.00367721\n",
            "Iteration 18, loss = 0.00349939\n",
            "Iteration 19, loss = 0.00333361\n",
            "Iteration 20, loss = 0.00317721\n",
            "Iteration 21, loss = 0.00303067\n",
            "Iteration 22, loss = 0.00289479\n",
            "Iteration 23, loss = 0.00276749\n",
            "Iteration 24, loss = 0.00264558\n",
            "Iteration 25, loss = 0.00252730\n",
            "Iteration 26, loss = 0.00241578\n",
            "Iteration 27, loss = 0.14308901\n",
            "Iteration 28, loss = 0.14702753\n",
            "Iteration 29, loss = 0.03126896\n",
            "Iteration 30, loss = 0.01714027\n",
            "Iteration 31, loss = 0.01511354\n",
            "Iteration 32, loss = 0.01423316\n",
            "Iteration 33, loss = 0.01354339\n",
            "Iteration 34, loss = 0.01295046\n",
            "Iteration 35, loss = 0.01241942\n",
            "Iteration 36, loss = 0.01193518\n",
            "Iteration 37, loss = 0.01148778\n",
            "Training loss did not improve more than tol=0.000100 for 10 consecutive epochs. Stopping.\n",
            "Training set score: 0.999906\n",
            "Test set score: 0.780419\n"
          ]
        }
      ]
    },
    {
      "cell_type": "code",
      "metadata": {
        "colab": {
          "base_uri": "https://localhost:8080/"
        },
        "id": "PkOE281bYT7F",
        "outputId": "994e59ad-1d74-4cea-ab14-6dbd1836e60d"
      },
      "source": [
        "pred_mlp = mlp.predict(X_test)\n",
        "print(classification_report(y_test, pred_mlp))\n",
        "print(confusion_matrix(y_test, pred_mlp))"
      ],
      "id": "PkOE281bYT7F",
      "execution_count": 30,
      "outputs": [
        {
          "output_type": "stream",
          "name": "stdout",
          "text": [
            "              precision    recall  f1-score   support\n",
            "\n",
            "           0       0.78      0.84      0.81      2996\n",
            "           1       0.78      0.69      0.73      2346\n",
            "\n",
            "    accuracy                           0.78      5342\n",
            "   macro avg       0.78      0.77      0.77      5342\n",
            "weighted avg       0.78      0.78      0.78      5342\n",
            "\n",
            "[[2529  467]\n",
            " [ 718 1628]]\n"
          ]
        }
      ]
    },
    {
      "cell_type": "code",
      "metadata": {
        "colab": {
          "base_uri": "https://localhost:8080/"
        },
        "id": "iiaWpcAsVjxd",
        "outputId": "2f462a05-0218-4851-c1bf-323ed3be3f44"
      },
      "source": [
        "pred_mlp = mlp.predict(X_test)\n",
        "print(classification_report(y_test, pred_mlp))\n",
        "print(confusion_matrix(y_test, pred_mlp))"
      ],
      "id": "iiaWpcAsVjxd",
      "execution_count": 31,
      "outputs": [
        {
          "output_type": "stream",
          "name": "stdout",
          "text": [
            "              precision    recall  f1-score   support\n",
            "\n",
            "           0       0.78      0.84      0.81      2996\n",
            "           1       0.78      0.69      0.73      2346\n",
            "\n",
            "    accuracy                           0.78      5342\n",
            "   macro avg       0.78      0.77      0.77      5342\n",
            "weighted avg       0.78      0.78      0.78      5342\n",
            "\n",
            "[[2529  467]\n",
            " [ 718 1628]]\n"
          ]
        }
      ]
    },
    {
      "cell_type": "code",
      "metadata": {
        "colab": {
          "base_uri": "https://localhost:8080/"
        },
        "id": "4I7_tHw7Vj6_",
        "outputId": "a427ab86-8b3d-4f6a-f40c-85bb51d59853"
      },
      "source": [
        "pred_mlp2 = mlp2.predict(X_test)\n",
        "print(classification_report(y_test, pred_mlp2))\n",
        "print(confusion_matrix(y_test, pred_mlp2))"
      ],
      "id": "4I7_tHw7Vj6_",
      "execution_count": 32,
      "outputs": [
        {
          "output_type": "stream",
          "name": "stdout",
          "text": [
            "              precision    recall  f1-score   support\n",
            "\n",
            "           0       0.77      0.87      0.82      2996\n",
            "           1       0.80      0.66      0.73      2346\n",
            "\n",
            "    accuracy                           0.78      5342\n",
            "   macro avg       0.79      0.77      0.77      5342\n",
            "weighted avg       0.78      0.78      0.78      5342\n",
            "\n",
            "[[2619  377]\n",
            " [ 797 1549]]\n"
          ]
        }
      ]
    },
    {
      "cell_type": "code",
      "metadata": {
        "colab": {
          "base_uri": "https://localhost:8080/"
        },
        "id": "1QwZtptwVkG5",
        "outputId": "22f66385-1ebe-4aaf-ab9c-bffec09298c4"
      },
      "source": [
        "pred_mlp3 = mlp3.predict(X_test)\n",
        "print(classification_report(y_test, pred_mlp3))\n",
        "print(confusion_matrix(y_test, pred_mlp3))"
      ],
      "id": "1QwZtptwVkG5",
      "execution_count": 33,
      "outputs": [
        {
          "output_type": "stream",
          "name": "stdout",
          "text": [
            "              precision    recall  f1-score   support\n",
            "\n",
            "           0       0.80      0.83      0.81      2996\n",
            "           1       0.77      0.73      0.75      2346\n",
            "\n",
            "    accuracy                           0.78      5342\n",
            "   macro avg       0.78      0.78      0.78      5342\n",
            "weighted avg       0.78      0.78      0.78      5342\n",
            "\n",
            "[[2487  509]\n",
            " [ 640 1706]]\n"
          ]
        }
      ]
    },
    {
      "cell_type": "code",
      "metadata": {
        "colab": {
          "base_uri": "https://localhost:8080/"
        },
        "id": "rbyLrNMyVkOG",
        "outputId": "aed3489e-2ac8-4538-8a39-f88075eb2f02"
      },
      "source": [
        "pred_mlp4 = mlp4.predict(X_test)\n",
        "print(classification_report(y_test, pred_mlp4))\n",
        "print(confusion_matrix(y_test, pred_mlp4))"
      ],
      "id": "rbyLrNMyVkOG",
      "execution_count": 34,
      "outputs": [
        {
          "output_type": "stream",
          "name": "stdout",
          "text": [
            "              precision    recall  f1-score   support\n",
            "\n",
            "           0       0.80      0.82      0.81      2996\n",
            "           1       0.76      0.74      0.75      2346\n",
            "\n",
            "    accuracy                           0.78      5342\n",
            "   macro avg       0.78      0.78      0.78      5342\n",
            "weighted avg       0.78      0.78      0.78      5342\n",
            "\n",
            "[[2454  542]\n",
            " [ 614 1732]]\n"
          ]
        }
      ]
    },
    {
      "cell_type": "code",
      "metadata": {
        "colab": {
          "base_uri": "https://localhost:8080/"
        },
        "id": "-i5y30XgVkT5",
        "outputId": "ccce9725-da99-43e1-ba16-18257eff7661"
      },
      "source": [
        "pred_mlp5 = mlp5.predict(X_test)\n",
        "print(classification_report(y_test, pred_mlp5))\n",
        "print(confusion_matrix(y_test, pred_mlp5))"
      ],
      "id": "-i5y30XgVkT5",
      "execution_count": 35,
      "outputs": [
        {
          "output_type": "stream",
          "name": "stdout",
          "text": [
            "              precision    recall  f1-score   support\n",
            "\n",
            "           0       0.59      0.98      0.74      2996\n",
            "           1       0.86      0.14      0.25      2346\n",
            "\n",
            "    accuracy                           0.61      5342\n",
            "   macro avg       0.73      0.56      0.49      5342\n",
            "weighted avg       0.71      0.61      0.52      5342\n",
            "\n",
            "[[2943   53]\n",
            " [2011  335]]\n"
          ]
        }
      ]
    },
    {
      "cell_type": "code",
      "metadata": {
        "colab": {
          "base_uri": "https://localhost:8080/"
        },
        "id": "Hf9JhDHlVkZl",
        "outputId": "79efb2a6-23dc-486d-f97c-3053b4d4dd6a"
      },
      "source": [
        "pred_mlp6 = mlp6.predict(X_test)\n",
        "print(classification_report(y_test, pred_mlp6))\n",
        "print(confusion_matrix(y_test, pred_mlp6))"
      ],
      "id": "Hf9JhDHlVkZl",
      "execution_count": 36,
      "outputs": [
        {
          "output_type": "stream",
          "name": "stdout",
          "text": [
            "              precision    recall  f1-score   support\n",
            "\n",
            "           0       0.77      0.84      0.80      2996\n",
            "           1       0.77      0.68      0.72      2346\n",
            "\n",
            "    accuracy                           0.77      5342\n",
            "   macro avg       0.77      0.76      0.76      5342\n",
            "weighted avg       0.77      0.77      0.77      5342\n",
            "\n",
            "[[2513  483]\n",
            " [ 748 1598]]\n"
          ]
        }
      ]
    },
    {
      "cell_type": "code",
      "metadata": {
        "colab": {
          "base_uri": "https://localhost:8080/"
        },
        "id": "mdhumU2sVkh1",
        "outputId": "23ed853a-7a6b-4ec9-8ea2-59a0069ebb0a"
      },
      "source": [
        "pred_mlp7 = mlp7.predict(X_test)\n",
        "print(classification_report(y_test, pred_mlp7))\n",
        "print(confusion_matrix(y_test, pred_mlp7))"
      ],
      "id": "mdhumU2sVkh1",
      "execution_count": 37,
      "outputs": [
        {
          "output_type": "stream",
          "name": "stdout",
          "text": [
            "              precision    recall  f1-score   support\n",
            "\n",
            "           0       0.77      0.84      0.80      2996\n",
            "           1       0.77      0.68      0.72      2346\n",
            "\n",
            "    accuracy                           0.77      5342\n",
            "   macro avg       0.77      0.76      0.76      5342\n",
            "weighted avg       0.77      0.77      0.77      5342\n",
            "\n",
            "[[2517  479]\n",
            " [ 757 1589]]\n"
          ]
        }
      ]
    },
    {
      "cell_type": "code",
      "metadata": {
        "colab": {
          "base_uri": "https://localhost:8080/"
        },
        "id": "s2PAb58-Vm_4",
        "outputId": "a29d5300-bcd9-45ab-afa5-4bea08bc203f"
      },
      "source": [
        "pred_mlp8 = mlp8.predict(X_test)\n",
        "print(classification_report(y_test, pred_mlp8))\n",
        "print(confusion_matrix(y_test, pred_mlp8))"
      ],
      "id": "s2PAb58-Vm_4",
      "execution_count": 38,
      "outputs": [
        {
          "output_type": "stream",
          "name": "stdout",
          "text": [
            "              precision    recall  f1-score   support\n",
            "\n",
            "           0       0.79      0.85      0.81      2996\n",
            "           1       0.78      0.71      0.74      2346\n",
            "\n",
            "    accuracy                           0.78      5342\n",
            "   macro avg       0.78      0.78      0.78      5342\n",
            "weighted avg       0.78      0.78      0.78      5342\n",
            "\n",
            "[[2534  462]\n",
            " [ 692 1654]]\n"
          ]
        }
      ]
    },
    {
      "cell_type": "code",
      "metadata": {
        "colab": {
          "base_uri": "https://localhost:8080/"
        },
        "id": "DZCI6KuDV0fK",
        "outputId": "9d60cf2c-3f55-4856-a903-a870d707de2f"
      },
      "source": [
        "pred_mlp9 = mlp9.predict(X_test)\n",
        "print(classification_report(y_test, pred_mlp9))\n",
        "print(confusion_matrix(y_test, pred_mlp9))"
      ],
      "id": "DZCI6KuDV0fK",
      "execution_count": 39,
      "outputs": [
        {
          "output_type": "stream",
          "name": "stdout",
          "text": [
            "              precision    recall  f1-score   support\n",
            "\n",
            "           0       0.78      0.85      0.81      2996\n",
            "           1       0.79      0.69      0.73      2346\n",
            "\n",
            "    accuracy                           0.78      5342\n",
            "   macro avg       0.78      0.77      0.77      5342\n",
            "weighted avg       0.78      0.78      0.78      5342\n",
            "\n",
            "[[2559  437]\n",
            " [ 736 1610]]\n"
          ]
        }
      ]
    },
    {
      "cell_type": "code",
      "metadata": {
        "id": "4f018524"
      },
      "source": [
        "#Training on subset of dataset 1 and Testing on another mutually exlusive subset of dataset 1 \n",
        "mlpc = MLPClassifier(hidden_layer_sizes=(11,11,11), max_iter=10000) #500 originally but did not converge\n",
        "mlpc.fit(X_train, y_train)\n",
        "pred_mlpc = mlpc.predict(X_test)"
      ],
      "id": "4f018524",
      "execution_count": 40,
      "outputs": []
    },
    {
      "cell_type": "code",
      "metadata": {
        "id": "06jytJkGQoue"
      },
      "source": [
        "#Training on subset of dataset 2 and Testing on another mutually exlusive subset of dataset 2 \n",
        "mlpc2 = MLPClassifier(hidden_layer_sizes=(11,11,11), max_iter=10000) #500 originally but did not converge\n",
        "mlpc2.fit(X_train2, y_train2)\n",
        "pred_mlpc2 = mlpc2.predict(X_test2)"
      ],
      "id": "06jytJkGQoue",
      "execution_count": 41,
      "outputs": []
    },
    {
      "cell_type": "code",
      "metadata": {
        "id": "k1O_A1b_koGQ"
      },
      "source": [
        "#Training on subset of dataset 1 and Testing on another mutually exlusive subset of dataset 2 \n",
        "mlpc3 = MLPClassifier(hidden_layer_sizes=(11,11,11), max_iter=10000) #500 originally but did not converge\n",
        "mlpc3.fit(X_train, y_train)\n",
        "pred_mlpc3 = mlpc3.predict(X_test2)"
      ],
      "id": "k1O_A1b_koGQ",
      "execution_count": 42,
      "outputs": []
    },
    {
      "cell_type": "code",
      "metadata": {
        "id": "yiS789rjhX8S"
      },
      "source": [
        "#Training on dataset 1 and testing on dataset 1\n",
        "model = MLPClassifier(hidden_layer_sizes=(11,11,11), max_iter=10000)\n",
        "model.fit(X_train, y_train)\n",
        "pred_model = model.predict(X_test)"
      ],
      "id": "yiS789rjhX8S",
      "execution_count": 43,
      "outputs": []
    },
    {
      "cell_type": "code",
      "metadata": {
        "id": "prYcZXmDhabb"
      },
      "source": [
        "#Training on dataset 2 and testing on dataset 1 \n",
        "model2 = MLPClassifier(hidden_layer_sizes=(11,11,11), max_iter=10000)\n",
        "model2.fit(X_train2, y_train2)\n",
        "pred_model2 = model2.predict(X_test)\n",
        "#print(model2.score(X_test, y_test))"
      ],
      "id": "prYcZXmDhabb",
      "execution_count": 44,
      "outputs": []
    },
    {
      "cell_type": "code",
      "metadata": {
        "id": "6d7d50ae",
        "colab": {
          "base_uri": "https://localhost:8080/"
        },
        "outputId": "18e96f25-8a5e-438c-f835-2499b4f9a3b1"
      },
      "source": [
        "print(classification_report(y_test, pred_mlpc))\n",
        "print(confusion_matrix(y_test, pred_mlpc))"
      ],
      "id": "6d7d50ae",
      "execution_count": 45,
      "outputs": [
        {
          "output_type": "stream",
          "name": "stdout",
          "text": [
            "              precision    recall  f1-score   support\n",
            "\n",
            "           0       0.77      0.80      0.78      2996\n",
            "           1       0.73      0.70      0.71      2346\n",
            "\n",
            "    accuracy                           0.75      5342\n",
            "   macro avg       0.75      0.75      0.75      5342\n",
            "weighted avg       0.75      0.75      0.75      5342\n",
            "\n",
            "[[2384  612]\n",
            " [ 705 1641]]\n"
          ]
        }
      ]
    },
    {
      "cell_type": "code",
      "metadata": {
        "id": "POpi1dj0Q7Fm",
        "colab": {
          "base_uri": "https://localhost:8080/"
        },
        "outputId": "9558cc90-734d-4365-a110-a3f5804381bc"
      },
      "source": [
        "print(classification_report(y_test, pred_mlpc2))\n",
        "print(confusion_matrix(y_test, pred_mlpc2))"
      ],
      "id": "POpi1dj0Q7Fm",
      "execution_count": 46,
      "outputs": [
        {
          "output_type": "stream",
          "name": "stdout",
          "text": [
            "              precision    recall  f1-score   support\n",
            "\n",
            "           0       0.56      0.55      0.56      2996\n",
            "           1       0.44      0.46      0.45      2346\n",
            "\n",
            "    accuracy                           0.51      5342\n",
            "   macro avg       0.50      0.50      0.50      5342\n",
            "weighted avg       0.51      0.51      0.51      5342\n",
            "\n",
            "[[1643 1353]\n",
            " [1268 1078]]\n"
          ]
        }
      ]
    },
    {
      "cell_type": "code",
      "metadata": {
        "id": "LdLJtf2aQ8Z_",
        "colab": {
          "base_uri": "https://localhost:8080/"
        },
        "outputId": "1dc4c056-d7f3-4d4f-b1cd-c24fbd988dde"
      },
      "source": [
        "print(classification_report(y_test2, pred_mlpc3))\n",
        "print(confusion_matrix(y_test2, pred_mlpc3))"
      ],
      "id": "LdLJtf2aQ8Z_",
      "execution_count": 47,
      "outputs": [
        {
          "output_type": "stream",
          "name": "stdout",
          "text": [
            "              precision    recall  f1-score   support\n",
            "\n",
            "           0       0.51      0.55      0.53      2766\n",
            "           1       0.48      0.44      0.46      2576\n",
            "\n",
            "    accuracy                           0.50      5342\n",
            "   macro avg       0.50      0.50      0.50      5342\n",
            "weighted avg       0.50      0.50      0.50      5342\n",
            "\n",
            "[[1515 1251]\n",
            " [1430 1146]]\n"
          ]
        }
      ]
    },
    {
      "cell_type": "code",
      "metadata": {
        "id": "5R0MEXbphd9q",
        "colab": {
          "base_uri": "https://localhost:8080/"
        },
        "outputId": "088c43bb-67cc-4c09-b841-0af0b8404861"
      },
      "source": [
        "print(classification_report(y_test2, pred_mlpc2))\n",
        "print(confusion_matrix(y_test2, pred_mlpc2))"
      ],
      "id": "5R0MEXbphd9q",
      "execution_count": 48,
      "outputs": [
        {
          "output_type": "stream",
          "name": "stdout",
          "text": [
            "              precision    recall  f1-score   support\n",
            "\n",
            "           0       0.74      0.78      0.76      2766\n",
            "           1       0.75      0.71      0.73      2576\n",
            "\n",
            "    accuracy                           0.74      5342\n",
            "   macro avg       0.74      0.74      0.74      5342\n",
            "weighted avg       0.74      0.74      0.74      5342\n",
            "\n",
            "[[2154  612]\n",
            " [ 757 1819]]\n"
          ]
        }
      ]
    },
    {
      "cell_type": "code",
      "metadata": {
        "id": "kXRC_wNBitN_",
        "colab": {
          "base_uri": "https://localhost:8080/"
        },
        "outputId": "5d17186b-b676-46d3-a06f-c350062a22e0"
      },
      "source": [
        "print(classification_report(y_test2, pred_model))\n",
        "print(confusion_matrix(y_test2, pred_model))"
      ],
      "id": "kXRC_wNBitN_",
      "execution_count": 49,
      "outputs": [
        {
          "output_type": "stream",
          "name": "stdout",
          "text": [
            "              precision    recall  f1-score   support\n",
            "\n",
            "           0       0.51      0.58      0.54      2766\n",
            "           1       0.48      0.41      0.44      2576\n",
            "\n",
            "    accuracy                           0.50      5342\n",
            "   macro avg       0.50      0.50      0.49      5342\n",
            "weighted avg       0.50      0.50      0.50      5342\n",
            "\n",
            "[[1597 1169]\n",
            " [1511 1065]]\n"
          ]
        }
      ]
    },
    {
      "cell_type": "code",
      "metadata": {
        "id": "V0Ca8ZpfnXnW",
        "colab": {
          "base_uri": "https://localhost:8080/"
        },
        "outputId": "96fcbacb-e79f-4639-dfe9-63f7a63573d0"
      },
      "source": [
        "print(classification_report(y_test, pred_model2))\n",
        "print(confusion_matrix(y_test, pred_model2))"
      ],
      "id": "V0Ca8ZpfnXnW",
      "execution_count": 50,
      "outputs": [
        {
          "output_type": "stream",
          "name": "stdout",
          "text": [
            "              precision    recall  f1-score   support\n",
            "\n",
            "           0       0.57      0.59      0.58      2996\n",
            "           1       0.45      0.42      0.44      2346\n",
            "\n",
            "    accuracy                           0.52      5342\n",
            "   macro avg       0.51      0.51      0.51      5342\n",
            "weighted avg       0.52      0.52      0.52      5342\n",
            "\n",
            "[[1776 1220]\n",
            " [1349  997]]\n"
          ]
        }
      ]
    },
    {
      "cell_type": "markdown",
      "metadata": {
        "id": "924b39e9"
      },
      "source": [
        "# Accuracy Scores"
      ],
      "id": "924b39e9"
    },
    {
      "cell_type": "code",
      "metadata": {
        "id": "2bbd5d12",
        "cellView": "code",
        "colab": {
          "base_uri": "https://localhost:8080/"
        },
        "outputId": "e841f30b-fb30-480d-8ac3-da2bc01546f6"
      },
      "source": [
        "cm = accuracy_score(y_test, pred_mlp)\n",
        "print(mlp.score(X_test, y_test))\n",
        "cm\n"
      ],
      "id": "2bbd5d12",
      "execution_count": 61,
      "outputs": [
        {
          "output_type": "stream",
          "name": "stdout",
          "text": [
            "0.778172968925496\n"
          ]
        },
        {
          "output_type": "execute_result",
          "data": {
            "text/plain": [
              "0.778172968925496"
            ]
          },
          "metadata": {},
          "execution_count": 61
        }
      ]
    },
    {
      "cell_type": "code",
      "metadata": {
        "id": "TlB6wyJmhgNm",
        "colab": {
          "base_uri": "https://localhost:8080/"
        },
        "outputId": "355aa549-6166-48d6-f3b5-d619d043b397"
      },
      "source": [
        "cm = accuracy_score(y_test, pred_mlp2)\n",
        "cm"
      ],
      "id": "TlB6wyJmhgNm",
      "execution_count": 62,
      "outputs": [
        {
          "output_type": "execute_result",
          "data": {
            "text/plain": [
              "0.7802321228004493"
            ]
          },
          "metadata": {},
          "execution_count": 62
        }
      ]
    },
    {
      "cell_type": "code",
      "metadata": {
        "colab": {
          "base_uri": "https://localhost:8080/"
        },
        "id": "f8YFho8sWDEx",
        "outputId": "b488cce9-b2c6-47d4-96ba-447e005aeb2d"
      },
      "source": [
        "cm = accuracy_score(y_test, pred_mlp3)\n",
        "cm"
      ],
      "id": "f8YFho8sWDEx",
      "execution_count": 63,
      "outputs": [
        {
          "output_type": "execute_result",
          "data": {
            "text/plain": [
              "0.7849120179707975"
            ]
          },
          "metadata": {},
          "execution_count": 63
        }
      ]
    },
    {
      "cell_type": "code",
      "metadata": {
        "colab": {
          "base_uri": "https://localhost:8080/"
        },
        "id": "YHebeLUGWDMd",
        "outputId": "3d2ec4c1-778f-4b3d-c2d2-2c991bfb3789"
      },
      "source": [
        "cm = accuracy_score(y_test, pred_mlp4)\n",
        "cm"
      ],
      "id": "YHebeLUGWDMd",
      "execution_count": 64,
      "outputs": [
        {
          "output_type": "execute_result",
          "data": {
            "text/plain": [
              "0.7836016473231"
            ]
          },
          "metadata": {},
          "execution_count": 64
        }
      ]
    },
    {
      "cell_type": "code",
      "metadata": {
        "colab": {
          "base_uri": "https://localhost:8080/"
        },
        "id": "oPUCU9NHWDPT",
        "outputId": "1e3a1d33-5567-4c34-b65b-50dc035cbcf0"
      },
      "source": [
        "cm = accuracy_score(y_test, pred_mlp5)\n",
        "cm"
      ],
      "id": "oPUCU9NHWDPT",
      "execution_count": 65,
      "outputs": [
        {
          "output_type": "execute_result",
          "data": {
            "text/plain": [
              "0.6136278547360539"
            ]
          },
          "metadata": {},
          "execution_count": 65
        }
      ]
    },
    {
      "cell_type": "code",
      "metadata": {
        "colab": {
          "base_uri": "https://localhost:8080/"
        },
        "id": "JYKOd9E9WDTD",
        "outputId": "8359cb10-6d50-4a7f-cb51-918a3bd3c161"
      },
      "source": [
        "cm = accuracy_score(y_test, pred_mlp6)\n",
        "cm"
      ],
      "id": "JYKOd9E9WDTD",
      "execution_count": 66,
      "outputs": [
        {
          "output_type": "execute_result",
          "data": {
            "text/plain": [
              "0.7695619618120554"
            ]
          },
          "metadata": {},
          "execution_count": 66
        }
      ]
    },
    {
      "cell_type": "code",
      "metadata": {
        "colab": {
          "base_uri": "https://localhost:8080/"
        },
        "id": "BnqwaybzWDWo",
        "outputId": "1c9401e1-83eb-4822-ba21-c58bf75e159a"
      },
      "source": [
        "cm = accuracy_score(y_test, pred_mlp7)\n",
        "cm"
      ],
      "id": "BnqwaybzWDWo",
      "execution_count": 67,
      "outputs": [
        {
          "output_type": "execute_result",
          "data": {
            "text/plain": [
              "0.7686259827779858"
            ]
          },
          "metadata": {},
          "execution_count": 67
        }
      ]
    },
    {
      "cell_type": "code",
      "metadata": {
        "colab": {
          "base_uri": "https://localhost:8080/"
        },
        "id": "oxflU4o4WDZR",
        "outputId": "ae3e4146-104d-4b95-87d2-aec7ea2c75de"
      },
      "source": [
        "cm = accuracy_score(y_test, pred_mlp8)\n",
        "cm"
      ],
      "id": "oxflU4o4WDZR",
      "execution_count": 68,
      "outputs": [
        {
          "output_type": "execute_result",
          "data": {
            "text/plain": [
              "0.7839760389367278"
            ]
          },
          "metadata": {},
          "execution_count": 68
        }
      ]
    },
    {
      "cell_type": "code",
      "metadata": {
        "colab": {
          "base_uri": "https://localhost:8080/"
        },
        "id": "Z8E7yoLdWDcD",
        "outputId": "a548b8ad-74ca-4165-b3b1-1bb6f95006d4"
      },
      "source": [
        "cm = accuracy_score(y_test, pred_mlp9)\n",
        "cm"
      ],
      "id": "Z8E7yoLdWDcD",
      "execution_count": 69,
      "outputs": [
        {
          "output_type": "execute_result",
          "data": {
            "text/plain": [
              "0.7804193186072632"
            ]
          },
          "metadata": {},
          "execution_count": 69
        }
      ]
    },
    {
      "cell_type": "markdown",
      "metadata": {
        "id": "e3e1cf2e"
      },
      "source": [
        "# Single sentence predictors"
      ],
      "id": "e3e1cf2e"
    },
    {
      "cell_type": "code",
      "metadata": {
        "id": "fc2e694f",
        "colab": {
          "base_uri": "https://localhost:8080/"
        },
        "outputId": "6a94a7b8-21d2-4c6b-9900-637a00163043"
      },
      "source": [
        "user = input(\"Enter a Text: \")\n",
        "data = cv.transform([user]).toarray()\n",
        "output = mlpc.predict(data)\n",
        "if output == 1:\n",
        "    print('sarcastic')\n",
        "else: \n",
        "    print ('genuine')"
      ],
      "id": "fc2e694f",
      "execution_count": 60,
      "outputs": [
        {
          "output_type": "stream",
          "name": "stdout",
          "text": [
            "Enter a Text: i like spastic pizza on my ass\n",
            "sarcastic\n"
          ]
        }
      ]
    }
  ]
}