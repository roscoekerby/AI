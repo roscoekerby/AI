{
 "cells": [
  {
   "cell_type": "code",
   "execution_count": 1,
   "id": "31e48c94",
   "metadata": {},
   "outputs": [
    {
     "name": "stdout",
     "output_type": "stream",
     "text": [
      "BN{nodes: 4, arcs: 4, domainSize: 16, dim: 18}\n"
     ]
    },
    {
     "data": {
      "text/html": [
       "<table style=\"border-style: hidden; border-collapse: collapse;\" width=\"100%\"><tr><td style=\"border-top:hidden;border-bottom:hidden;\"><div align=\"center\" style=\"\"><table style=\"border:1px solid black;\">\n",
       "<tr style='border:1px solid black;color:black;background-color:#808080'>\n",
       "      <th colspan='2'><center>Cloudy?</center></th></tr>\n",
       "<tr><th style='border:1px solid black;border-bottom-style: double;color:black;background-color:#BBBBBB'>\n",
       "      <center>0</center></th><th style='border:1px solid black;border-bottom-style: double;color:black;background-color:#BBBBBB'>\n",
       "      <center>1</center></th></tr>\n",
       "<tr><td style='color:black;background-color:#bfbf64;text-align:right;'>0.50</td><td style='color:black;background-color:#bfbf64;text-align:right;'>0.50</td></tr>\n",
       "</table></div></td></tr><tr><td style=\"border-top:hidden;border-bottom:hidden;\"><div align=\"center\"><small>$P(Cloudy)$</small></div></td></tr></table>"
      ],
      "text/plain": [
       "<IPython.core.display.HTML object>"
      ]
     },
     "metadata": {},
     "output_type": "display_data"
    },
    {
     "data": {
      "text/html": [
       "<table style=\"border-style: hidden; border-collapse: collapse;\" width=\"100%\"><tr><td style=\"border-top:hidden;border-bottom:hidden;\"><div align=\"center\" style=\"\"><table style=\"border-style: hidden; border-collapse: collapse;\" width=\"100%\"><tr><td style=\"border-top:hidden;border-bottom:hidden;\"><div align=\"center\" style=\"\"><table style=\"border:1px solid black;\">\n",
       "<tr><th colspan='1'></th>\n",
       "      <th colspan='2' style='border:1px solid black;color:black;background-color:#808080;'><center>Sprinkler?</center>\n",
       "      </th></tr>\n",
       "<tr><th style='border:1px solid black;color:black;background-color:#808080'><center>Cloudy?</center></th><th style='border:1px solid black;border-bottom-style: double;color:black;background-color:#BBBBBB'>\n",
       "      <center>0</center></th><th style='border:1px solid black;border-bottom-style: double;color:black;background-color:#BBBBBB'>\n",
       "      <center>1</center></th></tr>\n",
       "<tr><th style='border:1px solid black;color:black;background-color:#BBBBBB'><center>0</center></th><td style='color:black;background-color:#bfbf64;text-align:right;'>0.50</td><td style='color:black;background-color:#bfbf64;text-align:right;'>0.50</td></tr>\n",
       "<tr><th style='border:1px solid black;color:black;background-color:#BBBBBB'><center>1</center></th><td style='color:black;background-color:#8bf264;text-align:right;'>0.90</td><td style='color:black;background-color:#f28b64;text-align:right;'>0.10</td></tr>\n",
       "</table></div></td></tr><tr><td style=\"border-top:hidden;border-bottom:hidden;\"><div align=\"center\"><small>$P(Sprinkler|Cloudy)$</small></div></td></tr></table></div></td><td style=\"border-top:hidden;border-bottom:hidden;\"><div align=\"center\" style=\"\"><svg xmlns=\"http://www.w3.org/2000/svg\" xmlns:xlink=\"http://www.w3.org/1999/xlink\" width=\"216pt\" height=\"187pt\" viewBox=\"0.00 0.00 216.00 186.67\">\n",
       "<g id=\"graph0\" class=\"graph\" transform=\"scale(1.01 1.01) rotate(0) translate(4 184)\">\n",
       "<title>G</title>\n",
       "<!-- Cloudy? -->\n",
       "<g id=\"node1\" class=\"node\">\n",
       "<title>Cloudy?</title>\n",
       "<g id=\"a_node1\"><a xlink:title=\"(0) Cloudy?\">\n",
       "<ellipse fill=\"#404040\" stroke=\"black\" cx=\"93.4\" cy=\"-162\" rx=\"48.19\" ry=\"18\"/>\n",
       "<text text-anchor=\"middle\" x=\"93.4\" y=\"-158.3\" font-family=\"Times,serif\" font-size=\"14.00\" fill=\"white\">Cloudy?</text>\n",
       "</a>\n",
       "</g>\n",
       "</g>\n",
       "<!-- Rain? -->\n",
       "<g id=\"node2\" class=\"node\">\n",
       "<title>Rain?</title>\n",
       "<g id=\"a_node2\"><a xlink:title=\"(3) Rain?\">\n",
       "<ellipse fill=\"#404040\" stroke=\"black\" cx=\"36.4\" cy=\"-90\" rx=\"36.29\" ry=\"18\"/>\n",
       "<text text-anchor=\"middle\" x=\"36.4\" y=\"-86.3\" font-family=\"Times,serif\" font-size=\"14.00\" fill=\"white\">Rain?</text>\n",
       "</a>\n",
       "</g>\n",
       "</g>\n",
       "<!-- Cloudy?&#45;&gt;Rain? -->\n",
       "<g id=\"edge3\" class=\"edge\">\n",
       "<title>Cloudy?-&gt;Rain?</title>\n",
       "<g id=\"a_edge3\"><a xlink:title=\"(0, 3) : \">\n",
       "<path fill=\"none\" stroke=\"#4a4a4a\" d=\"M79.89,-144.41C72.69,-135.57 63.7,-124.53 55.77,-114.79\"/>\n",
       "<polygon fill=\"#4a4a4a\" stroke=\"#4a4a4a\" points=\"58.44,-112.53 49.42,-106.99 53.02,-116.95 58.44,-112.53\"/>\n",
       "</a>\n",
       "</g>\n",
       "</g>\n",
       "<!-- Sprinkler? -->\n",
       "<g id=\"node4\" class=\"node\">\n",
       "<title>Sprinkler?</title>\n",
       "<g id=\"a_node4\"><a xlink:title=\"(1) Sprinkler?\">\n",
       "<ellipse fill=\"#404040\" stroke=\"black\" cx=\"150.4\" cy=\"-90\" rx=\"59.29\" ry=\"18\"/>\n",
       "<text text-anchor=\"middle\" x=\"150.4\" y=\"-86.3\" font-family=\"Times,serif\" font-size=\"14.00\" fill=\"white\">Sprinkler?</text>\n",
       "</a>\n",
       "</g>\n",
       "</g>\n",
       "<!-- Cloudy?&#45;&gt;Sprinkler? -->\n",
       "<g id=\"edge1\" class=\"edge\">\n",
       "<title>Cloudy?-&gt;Sprinkler?</title>\n",
       "<g id=\"a_edge1\"><a xlink:title=\"(0, 1) : \">\n",
       "<path fill=\"none\" stroke=\"#4a4a4a\" d=\"M106.9,-144.41C113.83,-135.91 122.41,-125.37 130.11,-115.91\"/>\n",
       "<polygon fill=\"#4a4a4a\" stroke=\"#4a4a4a\" points=\"132.99,-117.92 136.59,-107.96 127.56,-113.5 132.99,-117.92\"/>\n",
       "</a>\n",
       "</g>\n",
       "</g>\n",
       "<!-- Wet Grass? -->\n",
       "<g id=\"node3\" class=\"node\">\n",
       "<title>Wet Grass?</title>\n",
       "<g id=\"a_node3\"><a xlink:title=\"(2) Wet Grass?\">\n",
       "<ellipse fill=\"#404040\" stroke=\"black\" cx=\"93.4\" cy=\"-18\" rx=\"63.89\" ry=\"18\"/>\n",
       "<text text-anchor=\"middle\" x=\"93.4\" y=\"-14.3\" font-family=\"Times,serif\" font-size=\"14.00\" fill=\"white\">Wet Grass?</text>\n",
       "</a>\n",
       "</g>\n",
       "</g>\n",
       "<!-- Rain?&#45;&gt;Wet Grass? -->\n",
       "<g id=\"edge4\" class=\"edge\">\n",
       "<title>Rain?-&gt;Wet Grass?</title>\n",
       "<g id=\"a_edge4\"><a xlink:title=\"(3, 2) : \">\n",
       "<path fill=\"none\" stroke=\"#4a4a4a\" d=\"M49.33,-73.12C56.41,-64.42 65.35,-53.45 73.31,-43.66\"/>\n",
       "<polygon fill=\"#4a4a4a\" stroke=\"#4a4a4a\" points=\"76.12,-45.76 79.72,-35.8 70.69,-41.34 76.12,-45.76\"/>\n",
       "</a>\n",
       "</g>\n",
       "</g>\n",
       "<!-- Sprinkler?&#45;&gt;Wet Grass? -->\n",
       "<g id=\"edge2\" class=\"edge\">\n",
       "<title>Sprinkler?-&gt;Wet Grass?</title>\n",
       "<g id=\"a_edge2\"><a xlink:title=\"(1, 2) : \">\n",
       "<path fill=\"none\" stroke=\"#4a4a4a\" d=\"M136.89,-72.41C129.96,-63.91 121.39,-53.37 113.68,-43.91\"/>\n",
       "<polygon fill=\"#4a4a4a\" stroke=\"#4a4a4a\" points=\"116.23,-41.5 107.2,-35.96 110.8,-45.92 116.23,-41.5\"/>\n",
       "</a>\n",
       "</g>\n",
       "</g>\n",
       "</g>\n",
       "</svg></div></td><td style=\"border-top:hidden;border-bottom:hidden;\"><div align=\"center\" style=\"\"><table style=\"border-style: hidden; border-collapse: collapse;\" width=\"100%\"><tr><td style=\"border-top:hidden;border-bottom:hidden;\"><div align=\"center\" style=\"\"><table style=\"border:1px solid black;\">\n",
       "<tr><th colspan='1'></th>\n",
       "      <th colspan='2' style='border:1px solid black;color:black;background-color:#808080;'><center>Rain?</center>\n",
       "      </th></tr>\n",
       "<tr><th style='border:1px solid black;color:black;background-color:#808080'><center>Cloudy?</center></th><th style='border:1px solid black;border-bottom-style: double;color:black;background-color:#BBBBBB'>\n",
       "      <center>0</center></th><th style='border:1px solid black;border-bottom-style: double;color:black;background-color:#BBBBBB'>\n",
       "      <center>1</center></th></tr>\n",
       "<tr><th style='border:1px solid black;color:black;background-color:#BBBBBB'><center>0</center></th><td style='color:black;background-color:#98e564;text-align:right;'>0.80</td><td style='color:black;background-color:#e59864;text-align:right;'>0.20</td></tr>\n",
       "<tr><th style='border:1px solid black;color:black;background-color:#BBBBBB'><center>1</center></th><td style='color:black;background-color:#e59864;text-align:right;'>0.20</td><td style='color:black;background-color:#98e564;text-align:right;'>0.80</td></tr>\n",
       "</table></div></td></tr><tr><td style=\"border-top:hidden;border-bottom:hidden;\"><div align=\"center\"><small>$P(Rain|Cloudy)$</small></div></td></tr></table></div></td></tr></table>"
      ],
      "text/plain": [
       "<IPython.core.display.HTML object>"
      ]
     },
     "metadata": {},
     "output_type": "display_data"
    },
    {
     "data": {
      "text/html": [
       "<table style=\"border-style: hidden; border-collapse: collapse;\" width=\"100%\"><tr><td style=\"border-top:hidden;border-bottom:hidden;\"><div align=\"center\" style=\"\"><table style=\"border:1px solid black;\">\n",
       "<tr><th colspan='2'></th>\n",
       "      <th colspan='2' style='border:1px solid black;color:black;background-color:#808080;'><center>Wet Grass?</center>\n",
       "      </th></tr>\n",
       "<tr><th style='border:1px solid black;color:black;background-color:#808080'><center>Rain?</center></th><th style='border:1px solid black;color:black;background-color:#808080'><center>Sprinkler?</center></th><th style='border:1px solid black;border-bottom-style: double;color:black;background-color:#BBBBBB'>\n",
       "      <center>0</center></th><th style='border:1px solid black;border-bottom-style: double;color:black;background-color:#BBBBBB'>\n",
       "      <center>1</center></th></tr>\n",
       "<tr><th style='border:1px solid black;color:black;background-color:#BBBBBB;' rowspan = '2'>\n",
       "            <center>0</center></th><th style='border:1px solid black;color:black;background-color:#BBBBBB'><center>0</center></th><td style='color:black;background-color:#7fff64;text-align:right;'>1.00</td><td style='color:black;background-color:#ff7f64;text-align:right;'>0.00</td></tr>\n",
       "<tr><th style='border:1px solid black;color:black;background-color:#BBBBBB'><center>1</center></th><td style='color:black;background-color:#f28b64;text-align:right;'>0.10</td><td style='color:black;background-color:#8bf264;text-align:right;'>0.90</td></tr>\n",
       "<tr><th style='border:1px solid black;color:black;background-color:#BBBBBB;' rowspan = '2'>\n",
       "            <center>1</center></th><th style='border:1px solid black;color:black;background-color:#BBBBBB'><center>0</center></th><td style='color:black;background-color:#f28b64;text-align:right;'>0.10</td><td style='color:black;background-color:#8bf264;text-align:right;'>0.90</td></tr>\n",
       "<tr><th style='border:1px solid black;color:black;background-color:#BBBBBB'><center>1</center></th><td style='color:black;background-color:#fd8064;text-align:right;'>0.01</td><td style='color:black;background-color:#80fd64;text-align:right;'>0.99</td></tr>\n",
       "</table></div></td></tr><tr><td style=\"border-top:hidden;border-bottom:hidden;\"><div align=\"center\"><small>$P(WetGrass|Sprinkler,Rain)$</small></div></td></tr></table>"
      ],
      "text/plain": [
       "<IPython.core.display.HTML object>"
      ]
     },
     "metadata": {},
     "output_type": "display_data"
    }
   ],
   "source": [
    "from pylab import *\n",
    "import matplotlib.pyplot as plt\n",
    "import os\n",
    "import pyAgrum as gum\n",
    "import pyAgrum.lib.notebook as gnb\n",
    "\n",
    "bn=gum.fastBN(\"Cloudy?->Sprinkler?->Wet Grass?<-Rain?<-Cloudy?\")\n",
    "\n",
    "bn.cpt(\"Cloudy?\").fillWith([0.5,0.5])\n",
    "\n",
    "bn.cpt(\"Sprinkler?\")[:]=[[0.5,0.5],\n",
    "                         [0.9,0.1]]\n",
    "\n",
    "bn.cpt(\"Rain?\")[{'Cloudy?':0}]=[0.8,0.2]\n",
    "bn.cpt(\"Rain?\")[{'Cloudy?':1}]=[0.2,0.8]\n",
    "\n",
    "bn.cpt(\"Wet Grass?\")[{'Rain?': 0, 'Sprinkler?': 0}] = [1, 0]\n",
    "bn.cpt(\"Wet Grass?\")[{'Rain?': 0, 'Sprinkler?': 1}] = [0.1, 0.9]\n",
    "bn.cpt(\"Wet Grass?\")[{'Rain?': 1, 'Sprinkler?': 0}] = [0.1, 0.9]\n",
    "bn.cpt(\"Wet Grass?\")[{'Rain?': 1, 'Sprinkler?': 1}] = [0.01, 0.99]\n",
    "\n",
    "gum.config['notebook','potential_visible_digits']=2\n",
    "print(bn)\n",
    "gnb.sideBySide(bn.cpt(\"Cloudy?\"),captions=['$P(Cloudy)$'])\n",
    "gnb.sideBySide(\n",
    "gnb.getSideBySide(bn.cpt(\"Sprinkler?\"),captions=['$P(Sprinkler|Cloudy)$']),\n",
    "gnb.getBN(bn,size=\"3!\"),\n",
    "gnb.getSideBySide(bn.cpt(\"Rain?\"),captions=['$P(Rain|Cloudy)$']))\n",
    "gnb.sideBySide(bn.cpt(\"Wet Grass?\"),captions=['$P(WetGrass|Sprinkler,Rain)$'])"
   ]
  },
  {
   "cell_type": "code",
   "execution_count": null,
   "id": "220c0187",
   "metadata": {},
   "outputs": [],
   "source": []
  }
 ],
 "metadata": {
  "kernelspec": {
   "display_name": "Python 3 (ipykernel)",
   "language": "python",
   "name": "python3"
  },
  "language_info": {
   "codemirror_mode": {
    "name": "ipython",
    "version": 3
   },
   "file_extension": ".py",
   "mimetype": "text/x-python",
   "name": "python",
   "nbconvert_exporter": "python",
   "pygments_lexer": "ipython3",
   "version": "3.8.10"
  }
 },
 "nbformat": 4,
 "nbformat_minor": 5
}
